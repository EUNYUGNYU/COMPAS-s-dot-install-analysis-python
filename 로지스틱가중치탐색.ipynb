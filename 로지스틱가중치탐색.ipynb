{
  "nbformat": 4,
  "nbformat_minor": 0,
  "metadata": {
    "colab": {
      "name": "로지스틱가중치탐색.ipynb",
      "provenance": [],
      "collapsed_sections": []
    },
    "kernelspec": {
      "display_name": "Python 3",
      "language": "python",
      "name": "python3"
    },
    "language_info": {
      "codemirror_mode": {
        "name": "ipython",
        "version": 3
      },
      "file_extension": ".py",
      "mimetype": "text/x-python",
      "name": "python",
      "nbconvert_exporter": "python",
      "pygments_lexer": "ipython3",
      "version": "3.6.9"
    }
  },
  "cells": [
    {
      "cell_type": "code",
      "metadata": {
        "id": "m6SXCcxi7kP6",
        "outputId": "847da0d6-0d99-4537-ccaf-2e424463521e"
      },
      "source": [
        "import pandas as pd\n",
        "import numpy as np\n",
        "import folium\n",
        "from folium.plugins import MarkerCluster\n",
        "import geopandas as gpd\n",
        "import matplotlib.pyplot as plt\n",
        "import seaborn as sns\n",
        "# from haversine import haversine\n",
        "import time  # start = time.time() / print(time.time()-start)\n",
        "import shapely\n",
        "from shapely.geometry import Point, Polygon, LineString\n",
        "from geopy.distance import distance\n",
        "import json\n",
        "from tqdm import tqdm\n",
        "from tqdm.notebook import tqdm as tqdmn\n",
        "from itertools import product, combinations, permutations, combinations_with_replacement\n",
        "\n",
        "plt.rcParams['font.family'] = 'Malgun Gothic'\n"
      ],
      "execution_count": null,
      "outputs": [
        {
          "name": "stderr",
          "output_type": "stream",
          "text": [
            "/opt/app-root/lib/python3.6/site-packages/geopandas/_compat.py:110: UserWarning: The Shapely GEOS version (3.8.0-CAPI-1.13.1 ) is incompatible with the GEOS version PyGEOS was compiled with (3.9.0-CAPI-1.16.2). Conversions between both will be slow.\n",
            "  shapely_geos_version, geos_capi_version_string\n"
          ]
        }
      ]
    },
    {
      "cell_type": "code",
      "metadata": {
        "scrolled": true,
        "id": "ciimOGTtabay",
        "outputId": "c7b066f7-38db-45ce-b26a-451aded55bb9"
      },
      "source": [
        "import geopandas as gpd\n",
        "data = gpd.read_file('Final.json')\n",
        "data"
      ],
      "execution_count": null,
      "outputs": [
        {
          "data": {
            "text/html": [
              "<div>\n",
              "<style scoped>\n",
              "    .dataframe tbody tr th:only-of-type {\n",
              "        vertical-align: middle;\n",
              "    }\n",
              "\n",
              "    .dataframe tbody tr th {\n",
              "        vertical-align: top;\n",
              "    }\n",
              "\n",
              "    .dataframe thead th {\n",
              "        text-align: right;\n",
              "    }\n",
              "</style>\n",
              "<table border=\"1\" class=\"dataframe\">\n",
              "  <thead>\n",
              "    <tr style=\"text-align: right;\">\n",
              "      <th></th>\n",
              "      <th>gid</th>\n",
              "      <th>basic_S_Dot_YN</th>\n",
              "      <th>factory_micro</th>\n",
              "      <th>construction_micro</th>\n",
              "      <th>factory_noise</th>\n",
              "      <th>construction_noise</th>\n",
              "      <th>bus_passenger_count</th>\n",
              "      <th>subway_passenger_count</th>\n",
              "      <th>subway_noise_buffer300</th>\n",
              "      <th>subway_noise_buffer_YN</th>\n",
              "      <th>...</th>\n",
              "      <th>FGCR_AADT</th>\n",
              "      <th>river_YN</th>\n",
              "      <th>mountain_YN</th>\n",
              "      <th>park_YN</th>\n",
              "      <th>commercial_district_YN</th>\n",
              "      <th>gas_usage</th>\n",
              "      <th>env_facility_count</th>\n",
              "      <th>public_institution_YN</th>\n",
              "      <th>building_20_count</th>\n",
              "      <th>geometry</th>\n",
              "    </tr>\n",
              "  </thead>\n",
              "  <tbody>\n",
              "    <tr>\n",
              "      <th>0</th>\n",
              "      <td>다사350508</td>\n",
              "      <td>0.0</td>\n",
              "      <td>0.0</td>\n",
              "      <td>0.0</td>\n",
              "      <td>0.0</td>\n",
              "      <td>0.0</td>\n",
              "      <td>0.0</td>\n",
              "      <td>0.0</td>\n",
              "      <td>0.0</td>\n",
              "      <td>0</td>\n",
              "      <td>...</td>\n",
              "      <td>0.000000</td>\n",
              "      <td>1</td>\n",
              "      <td>0</td>\n",
              "      <td>0</td>\n",
              "      <td>0</td>\n",
              "      <td>0.0</td>\n",
              "      <td>0</td>\n",
              "      <td>0</td>\n",
              "      <td>0</td>\n",
              "      <td>MULTIPOLYGON (((126.76410 37.55426, 126.76409 ...</td>\n",
              "    </tr>\n",
              "    <tr>\n",
              "      <th>1</th>\n",
              "      <td>다사350509</td>\n",
              "      <td>0.0</td>\n",
              "      <td>0.0</td>\n",
              "      <td>0.0</td>\n",
              "      <td>0.0</td>\n",
              "      <td>0.0</td>\n",
              "      <td>0.0</td>\n",
              "      <td>0.0</td>\n",
              "      <td>0.0</td>\n",
              "      <td>0</td>\n",
              "      <td>...</td>\n",
              "      <td>0.000000</td>\n",
              "      <td>1</td>\n",
              "      <td>0</td>\n",
              "      <td>0</td>\n",
              "      <td>0</td>\n",
              "      <td>0.0</td>\n",
              "      <td>0</td>\n",
              "      <td>0</td>\n",
              "      <td>0</td>\n",
              "      <td>MULTIPOLYGON (((126.76409 37.55516, 126.76408 ...</td>\n",
              "    </tr>\n",
              "    <tr>\n",
              "      <th>2</th>\n",
              "      <td>다사351507</td>\n",
              "      <td>0.0</td>\n",
              "      <td>0.0</td>\n",
              "      <td>0.0</td>\n",
              "      <td>0.0</td>\n",
              "      <td>0.0</td>\n",
              "      <td>0.0</td>\n",
              "      <td>0.0</td>\n",
              "      <td>0.0</td>\n",
              "      <td>0</td>\n",
              "      <td>...</td>\n",
              "      <td>4013.000000</td>\n",
              "      <td>1</td>\n",
              "      <td>0</td>\n",
              "      <td>0</td>\n",
              "      <td>0</td>\n",
              "      <td>0.0</td>\n",
              "      <td>0</td>\n",
              "      <td>0</td>\n",
              "      <td>0</td>\n",
              "      <td>MULTIPOLYGON (((126.76524 37.55336, 126.76523 ...</td>\n",
              "    </tr>\n",
              "    <tr>\n",
              "      <th>3</th>\n",
              "      <td>다사351508</td>\n",
              "      <td>0.0</td>\n",
              "      <td>0.0</td>\n",
              "      <td>0.0</td>\n",
              "      <td>0.0</td>\n",
              "      <td>0.0</td>\n",
              "      <td>0.0</td>\n",
              "      <td>0.0</td>\n",
              "      <td>0.0</td>\n",
              "      <td>0</td>\n",
              "      <td>...</td>\n",
              "      <td>4011.000000</td>\n",
              "      <td>1</td>\n",
              "      <td>0</td>\n",
              "      <td>0</td>\n",
              "      <td>0</td>\n",
              "      <td>0.0</td>\n",
              "      <td>0</td>\n",
              "      <td>0</td>\n",
              "      <td>0</td>\n",
              "      <td>MULTIPOLYGON (((126.76523 37.55426, 126.76522 ...</td>\n",
              "    </tr>\n",
              "    <tr>\n",
              "      <th>4</th>\n",
              "      <td>다사351509</td>\n",
              "      <td>0.0</td>\n",
              "      <td>0.0</td>\n",
              "      <td>0.0</td>\n",
              "      <td>0.0</td>\n",
              "      <td>0.0</td>\n",
              "      <td>0.0</td>\n",
              "      <td>0.0</td>\n",
              "      <td>0.0</td>\n",
              "      <td>0</td>\n",
              "      <td>...</td>\n",
              "      <td>1259.000000</td>\n",
              "      <td>1</td>\n",
              "      <td>0</td>\n",
              "      <td>0</td>\n",
              "      <td>0</td>\n",
              "      <td>0.0</td>\n",
              "      <td>0</td>\n",
              "      <td>0</td>\n",
              "      <td>0</td>\n",
              "      <td>MULTIPOLYGON (((126.76522 37.55516, 126.76521 ...</td>\n",
              "    </tr>\n",
              "    <tr>\n",
              "      <th>...</th>\n",
              "      <td>...</td>\n",
              "      <td>...</td>\n",
              "      <td>...</td>\n",
              "      <td>...</td>\n",
              "      <td>...</td>\n",
              "      <td>...</td>\n",
              "      <td>...</td>\n",
              "      <td>...</td>\n",
              "      <td>...</td>\n",
              "      <td>...</td>\n",
              "      <td>...</td>\n",
              "      <td>...</td>\n",
              "      <td>...</td>\n",
              "      <td>...</td>\n",
              "      <td>...</td>\n",
              "      <td>...</td>\n",
              "      <td>...</td>\n",
              "      <td>...</td>\n",
              "      <td>...</td>\n",
              "      <td>...</td>\n",
              "      <td>...</td>\n",
              "    </tr>\n",
              "    <tr>\n",
              "      <th>61644</th>\n",
              "      <td>다사720495</td>\n",
              "      <td>0.0</td>\n",
              "      <td>0.0</td>\n",
              "      <td>0.0</td>\n",
              "      <td>0.0</td>\n",
              "      <td>0.0</td>\n",
              "      <td>0.0</td>\n",
              "      <td>0.0</td>\n",
              "      <td>0.0</td>\n",
              "      <td>0</td>\n",
              "      <td>...</td>\n",
              "      <td>26161.000000</td>\n",
              "      <td>0</td>\n",
              "      <td>1</td>\n",
              "      <td>0</td>\n",
              "      <td>0</td>\n",
              "      <td>0.0</td>\n",
              "      <td>0</td>\n",
              "      <td>0</td>\n",
              "      <td>0</td>\n",
              "      <td>MULTIPOLYGON (((127.18303 37.54441, 127.18303 ...</td>\n",
              "    </tr>\n",
              "    <tr>\n",
              "      <th>61645</th>\n",
              "      <td>다사720496</td>\n",
              "      <td>0.0</td>\n",
              "      <td>0.0</td>\n",
              "      <td>0.0</td>\n",
              "      <td>0.0</td>\n",
              "      <td>0.0</td>\n",
              "      <td>0.0</td>\n",
              "      <td>0.0</td>\n",
              "      <td>0.0</td>\n",
              "      <td>0</td>\n",
              "      <td>...</td>\n",
              "      <td>10071.000000</td>\n",
              "      <td>0</td>\n",
              "      <td>1</td>\n",
              "      <td>0</td>\n",
              "      <td>0</td>\n",
              "      <td>0.0</td>\n",
              "      <td>0</td>\n",
              "      <td>0</td>\n",
              "      <td>0</td>\n",
              "      <td>MULTIPOLYGON (((127.18303 37.54531, 127.18303 ...</td>\n",
              "    </tr>\n",
              "    <tr>\n",
              "      <th>61646</th>\n",
              "      <td>다사720499</td>\n",
              "      <td>0.0</td>\n",
              "      <td>0.0</td>\n",
              "      <td>0.0</td>\n",
              "      <td>0.0</td>\n",
              "      <td>0.0</td>\n",
              "      <td>0.0</td>\n",
              "      <td>0.0</td>\n",
              "      <td>0.0</td>\n",
              "      <td>0</td>\n",
              "      <td>...</td>\n",
              "      <td>243.916667</td>\n",
              "      <td>0</td>\n",
              "      <td>1</td>\n",
              "      <td>0</td>\n",
              "      <td>0</td>\n",
              "      <td>0.0</td>\n",
              "      <td>0</td>\n",
              "      <td>0</td>\n",
              "      <td>0</td>\n",
              "      <td>MULTIPOLYGON (((127.18302 37.54801, 127.18302 ...</td>\n",
              "    </tr>\n",
              "    <tr>\n",
              "      <th>61647</th>\n",
              "      <td>다사720501</td>\n",
              "      <td>0.0</td>\n",
              "      <td>0.0</td>\n",
              "      <td>1.0</td>\n",
              "      <td>0.0</td>\n",
              "      <td>0.0</td>\n",
              "      <td>0.0</td>\n",
              "      <td>0.0</td>\n",
              "      <td>0.0</td>\n",
              "      <td>0</td>\n",
              "      <td>...</td>\n",
              "      <td>255.625000</td>\n",
              "      <td>0</td>\n",
              "      <td>1</td>\n",
              "      <td>0</td>\n",
              "      <td>0</td>\n",
              "      <td>0.0</td>\n",
              "      <td>0</td>\n",
              "      <td>0</td>\n",
              "      <td>0</td>\n",
              "      <td>MULTIPOLYGON (((127.18301 37.54981, 127.18301 ...</td>\n",
              "    </tr>\n",
              "    <tr>\n",
              "      <th>61648</th>\n",
              "      <td>다사720502</td>\n",
              "      <td>0.0</td>\n",
              "      <td>0.0</td>\n",
              "      <td>1.0</td>\n",
              "      <td>0.0</td>\n",
              "      <td>1.0</td>\n",
              "      <td>0.0</td>\n",
              "      <td>0.0</td>\n",
              "      <td>0.0</td>\n",
              "      <td>0</td>\n",
              "      <td>...</td>\n",
              "      <td>255.625000</td>\n",
              "      <td>0</td>\n",
              "      <td>1</td>\n",
              "      <td>0</td>\n",
              "      <td>0</td>\n",
              "      <td>0.0</td>\n",
              "      <td>0</td>\n",
              "      <td>0</td>\n",
              "      <td>0</td>\n",
              "      <td>MULTIPOLYGON (((127.18301 37.55071, 127.18300 ...</td>\n",
              "    </tr>\n",
              "  </tbody>\n",
              "</table>\n",
              "<p>61649 rows × 29 columns</p>\n",
              "</div>"
            ],
            "text/plain": [
              "            gid  basic_S_Dot_YN  factory_micro  construction_micro  \\\n",
              "0      다사350508             0.0            0.0                 0.0   \n",
              "1      다사350509             0.0            0.0                 0.0   \n",
              "2      다사351507             0.0            0.0                 0.0   \n",
              "3      다사351508             0.0            0.0                 0.0   \n",
              "4      다사351509             0.0            0.0                 0.0   \n",
              "...         ...             ...            ...                 ...   \n",
              "61644  다사720495             0.0            0.0                 0.0   \n",
              "61645  다사720496             0.0            0.0                 0.0   \n",
              "61646  다사720499             0.0            0.0                 0.0   \n",
              "61647  다사720501             0.0            0.0                 1.0   \n",
              "61648  다사720502             0.0            0.0                 1.0   \n",
              "\n",
              "       factory_noise  construction_noise  bus_passenger_count  \\\n",
              "0                0.0                 0.0                  0.0   \n",
              "1                0.0                 0.0                  0.0   \n",
              "2                0.0                 0.0                  0.0   \n",
              "3                0.0                 0.0                  0.0   \n",
              "4                0.0                 0.0                  0.0   \n",
              "...              ...                 ...                  ...   \n",
              "61644            0.0                 0.0                  0.0   \n",
              "61645            0.0                 0.0                  0.0   \n",
              "61646            0.0                 0.0                  0.0   \n",
              "61647            0.0                 0.0                  0.0   \n",
              "61648            0.0                 1.0                  0.0   \n",
              "\n",
              "       subway_passenger_count  subway_noise_buffer300  subway_noise_buffer_YN  \\\n",
              "0                         0.0                     0.0                       0   \n",
              "1                         0.0                     0.0                       0   \n",
              "2                         0.0                     0.0                       0   \n",
              "3                         0.0                     0.0                       0   \n",
              "4                         0.0                     0.0                       0   \n",
              "...                       ...                     ...                     ...   \n",
              "61644                     0.0                     0.0                       0   \n",
              "61645                     0.0                     0.0                       0   \n",
              "61646                     0.0                     0.0                       0   \n",
              "61647                     0.0                     0.0                       0   \n",
              "61648                     0.0                     0.0                       0   \n",
              "\n",
              "       ...     FGCR_AADT  river_YN  mountain_YN  park_YN  \\\n",
              "0      ...      0.000000         1            0        0   \n",
              "1      ...      0.000000         1            0        0   \n",
              "2      ...   4013.000000         1            0        0   \n",
              "3      ...   4011.000000         1            0        0   \n",
              "4      ...   1259.000000         1            0        0   \n",
              "...    ...           ...       ...          ...      ...   \n",
              "61644  ...  26161.000000         0            1        0   \n",
              "61645  ...  10071.000000         0            1        0   \n",
              "61646  ...    243.916667         0            1        0   \n",
              "61647  ...    255.625000         0            1        0   \n",
              "61648  ...    255.625000         0            1        0   \n",
              "\n",
              "      commercial_district_YN  gas_usage  env_facility_count  \\\n",
              "0                          0        0.0                   0   \n",
              "1                          0        0.0                   0   \n",
              "2                          0        0.0                   0   \n",
              "3                          0        0.0                   0   \n",
              "4                          0        0.0                   0   \n",
              "...                      ...        ...                 ...   \n",
              "61644                      0        0.0                   0   \n",
              "61645                      0        0.0                   0   \n",
              "61646                      0        0.0                   0   \n",
              "61647                      0        0.0                   0   \n",
              "61648                      0        0.0                   0   \n",
              "\n",
              "       public_institution_YN  building_20_count  \\\n",
              "0                          0                  0   \n",
              "1                          0                  0   \n",
              "2                          0                  0   \n",
              "3                          0                  0   \n",
              "4                          0                  0   \n",
              "...                      ...                ...   \n",
              "61644                      0                  0   \n",
              "61645                      0                  0   \n",
              "61646                      0                  0   \n",
              "61647                      0                  0   \n",
              "61648                      0                  0   \n",
              "\n",
              "                                                geometry  \n",
              "0      MULTIPOLYGON (((126.76410 37.55426, 126.76409 ...  \n",
              "1      MULTIPOLYGON (((126.76409 37.55516, 126.76408 ...  \n",
              "2      MULTIPOLYGON (((126.76524 37.55336, 126.76523 ...  \n",
              "3      MULTIPOLYGON (((126.76523 37.55426, 126.76522 ...  \n",
              "4      MULTIPOLYGON (((126.76522 37.55516, 126.76521 ...  \n",
              "...                                                  ...  \n",
              "61644  MULTIPOLYGON (((127.18303 37.54441, 127.18303 ...  \n",
              "61645  MULTIPOLYGON (((127.18303 37.54531, 127.18303 ...  \n",
              "61646  MULTIPOLYGON (((127.18302 37.54801, 127.18302 ...  \n",
              "61647  MULTIPOLYGON (((127.18301 37.54981, 127.18301 ...  \n",
              "61648  MULTIPOLYGON (((127.18301 37.55071, 127.18300 ...  \n",
              "\n",
              "[61649 rows x 29 columns]"
            ]
          },
          "execution_count": 2,
          "metadata": {},
          "output_type": "execute_result"
        }
      ]
    },
    {
      "cell_type": "code",
      "metadata": {
        "scrolled": false,
        "id": "6ROEW8DTabaz",
        "outputId": "d2e423c6-0805-4173-f36c-e54860d2d25d"
      },
      "source": [
        "data.columns"
      ],
      "execution_count": null,
      "outputs": [
        {
          "data": {
            "text/plain": [
              "Index(['gid', 'basic_S_Dot_YN', 'factory_micro', 'construction_micro',\n",
              "       'factory_noise', 'construction_noise', 'bus_passenger_count',\n",
              "       'subway_passenger_count', 'subway_noise_buffer300',\n",
              "       'subway_noise_buffer_YN', 'cctv_YN', 'val_total', 'val_senior',\n",
              "       'val_junior', 'sig', 'val_basic_livelihood_sig', 'all_AADT',\n",
              "       'PSCR_AADT', 'BUS_AADT', 'FGCR_AADT', 'river_YN', 'mountain_YN',\n",
              "       'park_YN', 'commercial_district_YN', 'gas_usage', 'env_facility_count',\n",
              "       'public_institution_YN', 'building_20_count', 'geometry'],\n",
              "      dtype='object')"
            ]
          },
          "execution_count": 3,
          "metadata": {},
          "output_type": "execute_result"
        }
      ]
    },
    {
      "cell_type": "code",
      "metadata": {
        "id": "x1KGvLSBaba0"
      },
      "source": [
        "from sklearn.linear_model import LogisticRegression, RidgeClassifier"
      ],
      "execution_count": null,
      "outputs": []
    },
    {
      "cell_type": "code",
      "metadata": {
        "id": "stmGSmZwaba0"
      },
      "source": [
        "feature = data[['factory_micro', 'construction_micro', 'factory_noise', 'construction_noise', 'bus_passenger_count',\n",
        "       'subway_passenger_count', 'subway_noise_buffer300', 'subway_noise_buffer_YN', 'val_total', 'val_senior',\n",
        "       'val_junior', 'val_basic_livelihood_sig', 'all_AADT', 'PSCR_AADT', 'BUS_AADT', 'FGCR_AADT', 'river_YN', 'mountain_YN',\n",
        "       'park_YN', 'commercial_district_YN', 'gas_usage', 'env_facility_count','building_20_count']]\n",
        "target = data.basic_S_Dot_YN"
      ],
      "execution_count": null,
      "outputs": []
    },
    {
      "cell_type": "code",
      "metadata": {
        "scrolled": true,
        "id": "4ySp7lQmaba1",
        "outputId": "9553b799-989e-4ca0-f74e-25fc2846bda9"
      },
      "source": [
        "feature.info()"
      ],
      "execution_count": null,
      "outputs": [
        {
          "name": "stdout",
          "output_type": "stream",
          "text": [
            "<class 'pandas.core.frame.DataFrame'>\n",
            "RangeIndex: 61649 entries, 0 to 61648\n",
            "Data columns (total 23 columns):\n",
            " #   Column                    Non-Null Count  Dtype  \n",
            "---  ------                    --------------  -----  \n",
            " 0   factory_micro             61649 non-null  float64\n",
            " 1   construction_micro        61649 non-null  float64\n",
            " 2   factory_noise             61649 non-null  float64\n",
            " 3   construction_noise        61649 non-null  float64\n",
            " 4   bus_passenger_count       61649 non-null  float64\n",
            " 5   subway_passenger_count    61649 non-null  float64\n",
            " 6   subway_noise_buffer300    61649 non-null  float64\n",
            " 7   subway_noise_buffer_YN    61649 non-null  int64  \n",
            " 8   val_total                 61649 non-null  float64\n",
            " 9   val_senior                61649 non-null  float64\n",
            " 10  val_junior                61649 non-null  float64\n",
            " 11  val_basic_livelihood_sig  61649 non-null  float64\n",
            " 12  all_AADT                  61649 non-null  float64\n",
            " 13  PSCR_AADT                 61649 non-null  float64\n",
            " 14  BUS_AADT                  61649 non-null  float64\n",
            " 15  FGCR_AADT                 61649 non-null  float64\n",
            " 16  river_YN                  61649 non-null  int64  \n",
            " 17  mountain_YN               61649 non-null  int64  \n",
            " 18  park_YN                   61649 non-null  int64  \n",
            " 19  commercial_district_YN    61649 non-null  int64  \n",
            " 20  gas_usage                 61649 non-null  float64\n",
            " 21  env_facility_count        61649 non-null  int64  \n",
            " 22  building_20_count         61649 non-null  int64  \n",
            "dtypes: float64(16), int64(7)\n",
            "memory usage: 10.8 MB\n"
          ]
        }
      ]
    },
    {
      "cell_type": "code",
      "metadata": {
        "scrolled": true,
        "id": "1IerTGG8aba2",
        "outputId": "00c3d8f7-820a-4362-eea0-d27f9e051c7c"
      },
      "source": [
        "import numpy as np\n",
        "import pandas as pd\n",
        "pd.concat([feature, target], axis=1).corr()"
      ],
      "execution_count": null,
      "outputs": [
        {
          "data": {
            "text/html": [
              "<div>\n",
              "<style scoped>\n",
              "    .dataframe tbody tr th:only-of-type {\n",
              "        vertical-align: middle;\n",
              "    }\n",
              "\n",
              "    .dataframe tbody tr th {\n",
              "        vertical-align: top;\n",
              "    }\n",
              "\n",
              "    .dataframe thead th {\n",
              "        text-align: right;\n",
              "    }\n",
              "</style>\n",
              "<table border=\"1\" class=\"dataframe\">\n",
              "  <thead>\n",
              "    <tr style=\"text-align: right;\">\n",
              "      <th></th>\n",
              "      <th>factory_micro</th>\n",
              "      <th>construction_micro</th>\n",
              "      <th>factory_noise</th>\n",
              "      <th>construction_noise</th>\n",
              "      <th>bus_passenger_count</th>\n",
              "      <th>subway_passenger_count</th>\n",
              "      <th>subway_noise_buffer300</th>\n",
              "      <th>subway_noise_buffer_YN</th>\n",
              "      <th>val_total</th>\n",
              "      <th>val_senior</th>\n",
              "      <th>...</th>\n",
              "      <th>BUS_AADT</th>\n",
              "      <th>FGCR_AADT</th>\n",
              "      <th>river_YN</th>\n",
              "      <th>mountain_YN</th>\n",
              "      <th>park_YN</th>\n",
              "      <th>commercial_district_YN</th>\n",
              "      <th>gas_usage</th>\n",
              "      <th>env_facility_count</th>\n",
              "      <th>building_20_count</th>\n",
              "      <th>basic_S_Dot_YN</th>\n",
              "    </tr>\n",
              "  </thead>\n",
              "  <tbody>\n",
              "    <tr>\n",
              "      <th>factory_micro</th>\n",
              "      <td>1.000000</td>\n",
              "      <td>-0.015620</td>\n",
              "      <td>0.663725</td>\n",
              "      <td>-0.013124</td>\n",
              "      <td>-0.040844</td>\n",
              "      <td>-0.054756</td>\n",
              "      <td>-0.054756</td>\n",
              "      <td>-0.024608</td>\n",
              "      <td>-0.039373</td>\n",
              "      <td>-0.035134</td>\n",
              "      <td>...</td>\n",
              "      <td>0.101205</td>\n",
              "      <td>0.052321</td>\n",
              "      <td>0.068642</td>\n",
              "      <td>-0.054258</td>\n",
              "      <td>-0.015353</td>\n",
              "      <td>-0.038713</td>\n",
              "      <td>-0.003871</td>\n",
              "      <td>0.044476</td>\n",
              "      <td>-0.005212</td>\n",
              "      <td>-0.005112</td>\n",
              "    </tr>\n",
              "    <tr>\n",
              "      <th>construction_micro</th>\n",
              "      <td>-0.015620</td>\n",
              "      <td>1.000000</td>\n",
              "      <td>-0.000015</td>\n",
              "      <td>0.843379</td>\n",
              "      <td>0.225677</td>\n",
              "      <td>0.308139</td>\n",
              "      <td>0.308139</td>\n",
              "      <td>0.253503</td>\n",
              "      <td>0.131887</td>\n",
              "      <td>0.109044</td>\n",
              "      <td>...</td>\n",
              "      <td>-0.036858</td>\n",
              "      <td>0.041366</td>\n",
              "      <td>-0.045801</td>\n",
              "      <td>-0.226214</td>\n",
              "      <td>-0.091768</td>\n",
              "      <td>0.283639</td>\n",
              "      <td>0.033987</td>\n",
              "      <td>-0.002669</td>\n",
              "      <td>0.040639</td>\n",
              "      <td>0.049593</td>\n",
              "    </tr>\n",
              "    <tr>\n",
              "      <th>factory_noise</th>\n",
              "      <td>0.663725</td>\n",
              "      <td>-0.000015</td>\n",
              "      <td>1.000000</td>\n",
              "      <td>0.002523</td>\n",
              "      <td>-0.021596</td>\n",
              "      <td>-0.032109</td>\n",
              "      <td>-0.032109</td>\n",
              "      <td>-0.019696</td>\n",
              "      <td>-0.026893</td>\n",
              "      <td>-0.023667</td>\n",
              "      <td>...</td>\n",
              "      <td>0.066169</td>\n",
              "      <td>0.032690</td>\n",
              "      <td>0.041914</td>\n",
              "      <td>-0.025575</td>\n",
              "      <td>-0.008876</td>\n",
              "      <td>-0.019187</td>\n",
              "      <td>-0.004063</td>\n",
              "      <td>0.025046</td>\n",
              "      <td>-0.004291</td>\n",
              "      <td>-0.002139</td>\n",
              "    </tr>\n",
              "    <tr>\n",
              "      <th>construction_noise</th>\n",
              "      <td>-0.013124</td>\n",
              "      <td>0.843379</td>\n",
              "      <td>0.002523</td>\n",
              "      <td>1.000000</td>\n",
              "      <td>0.197293</td>\n",
              "      <td>0.248288</td>\n",
              "      <td>0.248288</td>\n",
              "      <td>0.205518</td>\n",
              "      <td>0.098837</td>\n",
              "      <td>0.077427</td>\n",
              "      <td>...</td>\n",
              "      <td>-0.031138</td>\n",
              "      <td>0.035355</td>\n",
              "      <td>-0.039527</td>\n",
              "      <td>-0.184750</td>\n",
              "      <td>-0.077016</td>\n",
              "      <td>0.241213</td>\n",
              "      <td>0.029183</td>\n",
              "      <td>-0.000202</td>\n",
              "      <td>0.033328</td>\n",
              "      <td>0.037765</td>\n",
              "    </tr>\n",
              "    <tr>\n",
              "      <th>bus_passenger_count</th>\n",
              "      <td>-0.040844</td>\n",
              "      <td>0.225677</td>\n",
              "      <td>-0.021596</td>\n",
              "      <td>0.197293</td>\n",
              "      <td>1.000000</td>\n",
              "      <td>0.299288</td>\n",
              "      <td>0.299288</td>\n",
              "      <td>0.240598</td>\n",
              "      <td>0.135181</td>\n",
              "      <td>0.119543</td>\n",
              "      <td>...</td>\n",
              "      <td>-0.062209</td>\n",
              "      <td>0.041081</td>\n",
              "      <td>-0.027519</td>\n",
              "      <td>-0.195863</td>\n",
              "      <td>-0.098209</td>\n",
              "      <td>0.281685</td>\n",
              "      <td>0.049767</td>\n",
              "      <td>-0.013381</td>\n",
              "      <td>0.047744</td>\n",
              "      <td>0.065599</td>\n",
              "    </tr>\n",
              "    <tr>\n",
              "      <th>subway_passenger_count</th>\n",
              "      <td>-0.054756</td>\n",
              "      <td>0.308139</td>\n",
              "      <td>-0.032109</td>\n",
              "      <td>0.248288</td>\n",
              "      <td>0.299288</td>\n",
              "      <td>1.000000</td>\n",
              "      <td>1.000000</td>\n",
              "      <td>0.586886</td>\n",
              "      <td>0.158158</td>\n",
              "      <td>0.132610</td>\n",
              "      <td>...</td>\n",
              "      <td>-0.044366</td>\n",
              "      <td>0.051572</td>\n",
              "      <td>-0.059374</td>\n",
              "      <td>-0.335063</td>\n",
              "      <td>-0.113362</td>\n",
              "      <td>0.355835</td>\n",
              "      <td>0.055618</td>\n",
              "      <td>-0.027343</td>\n",
              "      <td>0.073480</td>\n",
              "      <td>0.054037</td>\n",
              "    </tr>\n",
              "    <tr>\n",
              "      <th>subway_noise_buffer300</th>\n",
              "      <td>-0.054756</td>\n",
              "      <td>0.308139</td>\n",
              "      <td>-0.032109</td>\n",
              "      <td>0.248288</td>\n",
              "      <td>0.299288</td>\n",
              "      <td>1.000000</td>\n",
              "      <td>1.000000</td>\n",
              "      <td>0.586886</td>\n",
              "      <td>0.158158</td>\n",
              "      <td>0.132610</td>\n",
              "      <td>...</td>\n",
              "      <td>-0.044366</td>\n",
              "      <td>0.051572</td>\n",
              "      <td>-0.059374</td>\n",
              "      <td>-0.335063</td>\n",
              "      <td>-0.113362</td>\n",
              "      <td>0.355835</td>\n",
              "      <td>0.055618</td>\n",
              "      <td>-0.027343</td>\n",
              "      <td>0.073480</td>\n",
              "      <td>0.054037</td>\n",
              "    </tr>\n",
              "    <tr>\n",
              "      <th>subway_noise_buffer_YN</th>\n",
              "      <td>-0.024608</td>\n",
              "      <td>0.253503</td>\n",
              "      <td>-0.019696</td>\n",
              "      <td>0.205518</td>\n",
              "      <td>0.240598</td>\n",
              "      <td>0.586886</td>\n",
              "      <td>0.586886</td>\n",
              "      <td>1.000000</td>\n",
              "      <td>0.277700</td>\n",
              "      <td>0.254433</td>\n",
              "      <td>...</td>\n",
              "      <td>-0.046503</td>\n",
              "      <td>0.060608</td>\n",
              "      <td>0.033565</td>\n",
              "      <td>-0.359190</td>\n",
              "      <td>-0.133326</td>\n",
              "      <td>0.267021</td>\n",
              "      <td>0.046317</td>\n",
              "      <td>-0.011470</td>\n",
              "      <td>0.050711</td>\n",
              "      <td>0.056101</td>\n",
              "    </tr>\n",
              "    <tr>\n",
              "      <th>val_total</th>\n",
              "      <td>-0.039373</td>\n",
              "      <td>0.131887</td>\n",
              "      <td>-0.026893</td>\n",
              "      <td>0.098837</td>\n",
              "      <td>0.135181</td>\n",
              "      <td>0.158158</td>\n",
              "      <td>0.158158</td>\n",
              "      <td>0.277700</td>\n",
              "      <td>1.000000</td>\n",
              "      <td>0.888236</td>\n",
              "      <td>...</td>\n",
              "      <td>-0.101996</td>\n",
              "      <td>-0.066663</td>\n",
              "      <td>-0.048240</td>\n",
              "      <td>-0.181974</td>\n",
              "      <td>-0.144934</td>\n",
              "      <td>0.180655</td>\n",
              "      <td>0.067800</td>\n",
              "      <td>-0.037611</td>\n",
              "      <td>0.122827</td>\n",
              "      <td>0.062197</td>\n",
              "    </tr>\n",
              "    <tr>\n",
              "      <th>val_senior</th>\n",
              "      <td>-0.035134</td>\n",
              "      <td>0.109044</td>\n",
              "      <td>-0.023667</td>\n",
              "      <td>0.077427</td>\n",
              "      <td>0.119543</td>\n",
              "      <td>0.132610</td>\n",
              "      <td>0.132610</td>\n",
              "      <td>0.254433</td>\n",
              "      <td>0.888236</td>\n",
              "      <td>1.000000</td>\n",
              "      <td>...</td>\n",
              "      <td>-0.100559</td>\n",
              "      <td>-0.065086</td>\n",
              "      <td>-0.032542</td>\n",
              "      <td>-0.147859</td>\n",
              "      <td>-0.135688</td>\n",
              "      <td>0.185526</td>\n",
              "      <td>0.052830</td>\n",
              "      <td>-0.036550</td>\n",
              "      <td>0.077818</td>\n",
              "      <td>0.081213</td>\n",
              "    </tr>\n",
              "    <tr>\n",
              "      <th>val_junior</th>\n",
              "      <td>-0.026660</td>\n",
              "      <td>0.053055</td>\n",
              "      <td>-0.019902</td>\n",
              "      <td>0.030534</td>\n",
              "      <td>0.067035</td>\n",
              "      <td>0.084483</td>\n",
              "      <td>0.084483</td>\n",
              "      <td>0.196894</td>\n",
              "      <td>0.863690</td>\n",
              "      <td>0.653711</td>\n",
              "      <td>...</td>\n",
              "      <td>-0.073900</td>\n",
              "      <td>-0.066647</td>\n",
              "      <td>-0.045003</td>\n",
              "      <td>-0.138804</td>\n",
              "      <td>-0.109324</td>\n",
              "      <td>0.038126</td>\n",
              "      <td>0.063709</td>\n",
              "      <td>-0.026682</td>\n",
              "      <td>0.151843</td>\n",
              "      <td>0.018895</td>\n",
              "    </tr>\n",
              "    <tr>\n",
              "      <th>val_basic_livelihood_sig</th>\n",
              "      <td>-0.045910</td>\n",
              "      <td>0.186097</td>\n",
              "      <td>-0.028565</td>\n",
              "      <td>0.150958</td>\n",
              "      <td>0.224196</td>\n",
              "      <td>0.166723</td>\n",
              "      <td>0.166723</td>\n",
              "      <td>0.321723</td>\n",
              "      <td>0.634274</td>\n",
              "      <td>0.608560</td>\n",
              "      <td>...</td>\n",
              "      <td>-0.146311</td>\n",
              "      <td>-0.080707</td>\n",
              "      <td>-0.050642</td>\n",
              "      <td>-0.193232</td>\n",
              "      <td>-0.188572</td>\n",
              "      <td>0.264938</td>\n",
              "      <td>0.037317</td>\n",
              "      <td>-0.045976</td>\n",
              "      <td>0.037305</td>\n",
              "      <td>0.079557</td>\n",
              "    </tr>\n",
              "    <tr>\n",
              "      <th>all_AADT</th>\n",
              "      <td>0.059147</td>\n",
              "      <td>0.047038</td>\n",
              "      <td>0.039255</td>\n",
              "      <td>0.040351</td>\n",
              "      <td>0.047562</td>\n",
              "      <td>0.056180</td>\n",
              "      <td>0.056180</td>\n",
              "      <td>0.076433</td>\n",
              "      <td>-0.060244</td>\n",
              "      <td>-0.060156</td>\n",
              "      <td>...</td>\n",
              "      <td>0.820166</td>\n",
              "      <td>0.988319</td>\n",
              "      <td>0.332097</td>\n",
              "      <td>-0.185089</td>\n",
              "      <td>-0.046015</td>\n",
              "      <td>0.016913</td>\n",
              "      <td>-0.000938</td>\n",
              "      <td>0.063925</td>\n",
              "      <td>-0.004513</td>\n",
              "      <td>0.003328</td>\n",
              "    </tr>\n",
              "    <tr>\n",
              "      <th>PSCR_AADT</th>\n",
              "      <td>0.058956</td>\n",
              "      <td>0.050809</td>\n",
              "      <td>0.039694</td>\n",
              "      <td>0.043603</td>\n",
              "      <td>0.052390</td>\n",
              "      <td>0.060128</td>\n",
              "      <td>0.060128</td>\n",
              "      <td>0.083850</td>\n",
              "      <td>-0.056584</td>\n",
              "      <td>-0.056930</td>\n",
              "      <td>...</td>\n",
              "      <td>0.804655</td>\n",
              "      <td>0.980667</td>\n",
              "      <td>0.330751</td>\n",
              "      <td>-0.188406</td>\n",
              "      <td>-0.045890</td>\n",
              "      <td>0.020335</td>\n",
              "      <td>-0.000449</td>\n",
              "      <td>0.063298</td>\n",
              "      <td>-0.004308</td>\n",
              "      <td>0.003959</td>\n",
              "    </tr>\n",
              "    <tr>\n",
              "      <th>BUS_AADT</th>\n",
              "      <td>0.101205</td>\n",
              "      <td>-0.036858</td>\n",
              "      <td>0.066169</td>\n",
              "      <td>-0.031138</td>\n",
              "      <td>-0.062209</td>\n",
              "      <td>-0.044366</td>\n",
              "      <td>-0.044366</td>\n",
              "      <td>-0.046503</td>\n",
              "      <td>-0.101996</td>\n",
              "      <td>-0.100559</td>\n",
              "      <td>...</td>\n",
              "      <td>1.000000</td>\n",
              "      <td>0.825259</td>\n",
              "      <td>0.253138</td>\n",
              "      <td>-0.090941</td>\n",
              "      <td>-0.028777</td>\n",
              "      <td>-0.067630</td>\n",
              "      <td>-0.012931</td>\n",
              "      <td>0.068504</td>\n",
              "      <td>-0.011057</td>\n",
              "      <td>-0.015458</td>\n",
              "    </tr>\n",
              "    <tr>\n",
              "      <th>FGCR_AADT</th>\n",
              "      <td>0.052321</td>\n",
              "      <td>0.041366</td>\n",
              "      <td>0.032690</td>\n",
              "      <td>0.035355</td>\n",
              "      <td>0.041081</td>\n",
              "      <td>0.051572</td>\n",
              "      <td>0.051572</td>\n",
              "      <td>0.060608</td>\n",
              "      <td>-0.066663</td>\n",
              "      <td>-0.065086</td>\n",
              "      <td>...</td>\n",
              "      <td>0.825259</td>\n",
              "      <td>1.000000</td>\n",
              "      <td>0.334381</td>\n",
              "      <td>-0.177128</td>\n",
              "      <td>-0.046888</td>\n",
              "      <td>0.013815</td>\n",
              "      <td>-0.001265</td>\n",
              "      <td>0.063286</td>\n",
              "      <td>-0.004301</td>\n",
              "      <td>0.003151</td>\n",
              "    </tr>\n",
              "    <tr>\n",
              "      <th>river_YN</th>\n",
              "      <td>0.068642</td>\n",
              "      <td>-0.045801</td>\n",
              "      <td>0.041914</td>\n",
              "      <td>-0.039527</td>\n",
              "      <td>-0.027519</td>\n",
              "      <td>-0.059374</td>\n",
              "      <td>-0.059374</td>\n",
              "      <td>0.033565</td>\n",
              "      <td>-0.048240</td>\n",
              "      <td>-0.032542</td>\n",
              "      <td>...</td>\n",
              "      <td>0.253138</td>\n",
              "      <td>0.334381</td>\n",
              "      <td>1.000000</td>\n",
              "      <td>-0.200172</td>\n",
              "      <td>-0.063841</td>\n",
              "      <td>-0.071810</td>\n",
              "      <td>0.000157</td>\n",
              "      <td>0.049627</td>\n",
              "      <td>-0.014717</td>\n",
              "      <td>-0.001414</td>\n",
              "    </tr>\n",
              "    <tr>\n",
              "      <th>mountain_YN</th>\n",
              "      <td>-0.054258</td>\n",
              "      <td>-0.226214</td>\n",
              "      <td>-0.025575</td>\n",
              "      <td>-0.184750</td>\n",
              "      <td>-0.195863</td>\n",
              "      <td>-0.335063</td>\n",
              "      <td>-0.335063</td>\n",
              "      <td>-0.359190</td>\n",
              "      <td>-0.181974</td>\n",
              "      <td>-0.147859</td>\n",
              "      <td>...</td>\n",
              "      <td>-0.090941</td>\n",
              "      <td>-0.177128</td>\n",
              "      <td>-0.200172</td>\n",
              "      <td>1.000000</td>\n",
              "      <td>0.148330</td>\n",
              "      <td>-0.250997</td>\n",
              "      <td>-0.030216</td>\n",
              "      <td>-0.083582</td>\n",
              "      <td>-0.051572</td>\n",
              "      <td>-0.039991</td>\n",
              "    </tr>\n",
              "    <tr>\n",
              "      <th>park_YN</th>\n",
              "      <td>-0.015353</td>\n",
              "      <td>-0.091768</td>\n",
              "      <td>-0.008876</td>\n",
              "      <td>-0.077016</td>\n",
              "      <td>-0.098209</td>\n",
              "      <td>-0.113362</td>\n",
              "      <td>-0.113362</td>\n",
              "      <td>-0.133326</td>\n",
              "      <td>-0.144934</td>\n",
              "      <td>-0.135688</td>\n",
              "      <td>...</td>\n",
              "      <td>-0.028777</td>\n",
              "      <td>-0.046888</td>\n",
              "      <td>-0.063841</td>\n",
              "      <td>0.148330</td>\n",
              "      <td>1.000000</td>\n",
              "      <td>-0.070005</td>\n",
              "      <td>-0.019325</td>\n",
              "      <td>0.026957</td>\n",
              "      <td>-0.020325</td>\n",
              "      <td>-0.028926</td>\n",
              "    </tr>\n",
              "    <tr>\n",
              "      <th>commercial_district_YN</th>\n",
              "      <td>-0.038713</td>\n",
              "      <td>0.283639</td>\n",
              "      <td>-0.019187</td>\n",
              "      <td>0.241213</td>\n",
              "      <td>0.281685</td>\n",
              "      <td>0.355835</td>\n",
              "      <td>0.355835</td>\n",
              "      <td>0.267021</td>\n",
              "      <td>0.180655</td>\n",
              "      <td>0.185526</td>\n",
              "      <td>...</td>\n",
              "      <td>-0.067630</td>\n",
              "      <td>0.013815</td>\n",
              "      <td>-0.071810</td>\n",
              "      <td>-0.250997</td>\n",
              "      <td>-0.070005</td>\n",
              "      <td>1.000000</td>\n",
              "      <td>0.030668</td>\n",
              "      <td>0.000024</td>\n",
              "      <td>0.016337</td>\n",
              "      <td>0.066026</td>\n",
              "    </tr>\n",
              "    <tr>\n",
              "      <th>gas_usage</th>\n",
              "      <td>-0.003871</td>\n",
              "      <td>0.033987</td>\n",
              "      <td>-0.004063</td>\n",
              "      <td>0.029183</td>\n",
              "      <td>0.049767</td>\n",
              "      <td>0.055618</td>\n",
              "      <td>0.055618</td>\n",
              "      <td>0.046317</td>\n",
              "      <td>0.067800</td>\n",
              "      <td>0.052830</td>\n",
              "      <td>...</td>\n",
              "      <td>-0.012931</td>\n",
              "      <td>-0.001265</td>\n",
              "      <td>0.000157</td>\n",
              "      <td>-0.030216</td>\n",
              "      <td>-0.019325</td>\n",
              "      <td>0.030668</td>\n",
              "      <td>1.000000</td>\n",
              "      <td>0.007086</td>\n",
              "      <td>0.046560</td>\n",
              "      <td>0.003768</td>\n",
              "    </tr>\n",
              "    <tr>\n",
              "      <th>env_facility_count</th>\n",
              "      <td>0.044476</td>\n",
              "      <td>-0.002669</td>\n",
              "      <td>0.025046</td>\n",
              "      <td>-0.000202</td>\n",
              "      <td>-0.013381</td>\n",
              "      <td>-0.027343</td>\n",
              "      <td>-0.027343</td>\n",
              "      <td>-0.011470</td>\n",
              "      <td>-0.037611</td>\n",
              "      <td>-0.036550</td>\n",
              "      <td>...</td>\n",
              "      <td>0.068504</td>\n",
              "      <td>0.063286</td>\n",
              "      <td>0.049627</td>\n",
              "      <td>-0.083582</td>\n",
              "      <td>0.026957</td>\n",
              "      <td>0.000024</td>\n",
              "      <td>0.007086</td>\n",
              "      <td>1.000000</td>\n",
              "      <td>-0.004923</td>\n",
              "      <td>0.001328</td>\n",
              "    </tr>\n",
              "    <tr>\n",
              "      <th>building_20_count</th>\n",
              "      <td>-0.005212</td>\n",
              "      <td>0.040639</td>\n",
              "      <td>-0.004291</td>\n",
              "      <td>0.033328</td>\n",
              "      <td>0.047744</td>\n",
              "      <td>0.073480</td>\n",
              "      <td>0.073480</td>\n",
              "      <td>0.050711</td>\n",
              "      <td>0.122827</td>\n",
              "      <td>0.077818</td>\n",
              "      <td>...</td>\n",
              "      <td>-0.011057</td>\n",
              "      <td>-0.004301</td>\n",
              "      <td>-0.014717</td>\n",
              "      <td>-0.051572</td>\n",
              "      <td>-0.020325</td>\n",
              "      <td>0.016337</td>\n",
              "      <td>0.046560</td>\n",
              "      <td>-0.004923</td>\n",
              "      <td>1.000000</td>\n",
              "      <td>-0.003044</td>\n",
              "    </tr>\n",
              "    <tr>\n",
              "      <th>basic_S_Dot_YN</th>\n",
              "      <td>-0.005112</td>\n",
              "      <td>0.049593</td>\n",
              "      <td>-0.002139</td>\n",
              "      <td>0.037765</td>\n",
              "      <td>0.065599</td>\n",
              "      <td>0.054037</td>\n",
              "      <td>0.054037</td>\n",
              "      <td>0.056101</td>\n",
              "      <td>0.062197</td>\n",
              "      <td>0.081213</td>\n",
              "      <td>...</td>\n",
              "      <td>-0.015458</td>\n",
              "      <td>0.003151</td>\n",
              "      <td>-0.001414</td>\n",
              "      <td>-0.039991</td>\n",
              "      <td>-0.028926</td>\n",
              "      <td>0.066026</td>\n",
              "      <td>0.003768</td>\n",
              "      <td>0.001328</td>\n",
              "      <td>-0.003044</td>\n",
              "      <td>1.000000</td>\n",
              "    </tr>\n",
              "  </tbody>\n",
              "</table>\n",
              "<p>24 rows × 24 columns</p>\n",
              "</div>"
            ],
            "text/plain": [
              "                          factory_micro  construction_micro  factory_noise  \\\n",
              "factory_micro                  1.000000           -0.015620       0.663725   \n",
              "construction_micro            -0.015620            1.000000      -0.000015   \n",
              "factory_noise                  0.663725           -0.000015       1.000000   \n",
              "construction_noise            -0.013124            0.843379       0.002523   \n",
              "bus_passenger_count           -0.040844            0.225677      -0.021596   \n",
              "subway_passenger_count        -0.054756            0.308139      -0.032109   \n",
              "subway_noise_buffer300        -0.054756            0.308139      -0.032109   \n",
              "subway_noise_buffer_YN        -0.024608            0.253503      -0.019696   \n",
              "val_total                     -0.039373            0.131887      -0.026893   \n",
              "val_senior                    -0.035134            0.109044      -0.023667   \n",
              "val_junior                    -0.026660            0.053055      -0.019902   \n",
              "val_basic_livelihood_sig      -0.045910            0.186097      -0.028565   \n",
              "all_AADT                       0.059147            0.047038       0.039255   \n",
              "PSCR_AADT                      0.058956            0.050809       0.039694   \n",
              "BUS_AADT                       0.101205           -0.036858       0.066169   \n",
              "FGCR_AADT                      0.052321            0.041366       0.032690   \n",
              "river_YN                       0.068642           -0.045801       0.041914   \n",
              "mountain_YN                   -0.054258           -0.226214      -0.025575   \n",
              "park_YN                       -0.015353           -0.091768      -0.008876   \n",
              "commercial_district_YN        -0.038713            0.283639      -0.019187   \n",
              "gas_usage                     -0.003871            0.033987      -0.004063   \n",
              "env_facility_count             0.044476           -0.002669       0.025046   \n",
              "building_20_count             -0.005212            0.040639      -0.004291   \n",
              "basic_S_Dot_YN                -0.005112            0.049593      -0.002139   \n",
              "\n",
              "                          construction_noise  bus_passenger_count  \\\n",
              "factory_micro                      -0.013124            -0.040844   \n",
              "construction_micro                  0.843379             0.225677   \n",
              "factory_noise                       0.002523            -0.021596   \n",
              "construction_noise                  1.000000             0.197293   \n",
              "bus_passenger_count                 0.197293             1.000000   \n",
              "subway_passenger_count              0.248288             0.299288   \n",
              "subway_noise_buffer300              0.248288             0.299288   \n",
              "subway_noise_buffer_YN              0.205518             0.240598   \n",
              "val_total                           0.098837             0.135181   \n",
              "val_senior                          0.077427             0.119543   \n",
              "val_junior                          0.030534             0.067035   \n",
              "val_basic_livelihood_sig            0.150958             0.224196   \n",
              "all_AADT                            0.040351             0.047562   \n",
              "PSCR_AADT                           0.043603             0.052390   \n",
              "BUS_AADT                           -0.031138            -0.062209   \n",
              "FGCR_AADT                           0.035355             0.041081   \n",
              "river_YN                           -0.039527            -0.027519   \n",
              "mountain_YN                        -0.184750            -0.195863   \n",
              "park_YN                            -0.077016            -0.098209   \n",
              "commercial_district_YN              0.241213             0.281685   \n",
              "gas_usage                           0.029183             0.049767   \n",
              "env_facility_count                 -0.000202            -0.013381   \n",
              "building_20_count                   0.033328             0.047744   \n",
              "basic_S_Dot_YN                      0.037765             0.065599   \n",
              "\n",
              "                          subway_passenger_count  subway_noise_buffer300  \\\n",
              "factory_micro                          -0.054756               -0.054756   \n",
              "construction_micro                      0.308139                0.308139   \n",
              "factory_noise                          -0.032109               -0.032109   \n",
              "construction_noise                      0.248288                0.248288   \n",
              "bus_passenger_count                     0.299288                0.299288   \n",
              "subway_passenger_count                  1.000000                1.000000   \n",
              "subway_noise_buffer300                  1.000000                1.000000   \n",
              "subway_noise_buffer_YN                  0.586886                0.586886   \n",
              "val_total                               0.158158                0.158158   \n",
              "val_senior                              0.132610                0.132610   \n",
              "val_junior                              0.084483                0.084483   \n",
              "val_basic_livelihood_sig                0.166723                0.166723   \n",
              "all_AADT                                0.056180                0.056180   \n",
              "PSCR_AADT                               0.060128                0.060128   \n",
              "BUS_AADT                               -0.044366               -0.044366   \n",
              "FGCR_AADT                               0.051572                0.051572   \n",
              "river_YN                               -0.059374               -0.059374   \n",
              "mountain_YN                            -0.335063               -0.335063   \n",
              "park_YN                                -0.113362               -0.113362   \n",
              "commercial_district_YN                  0.355835                0.355835   \n",
              "gas_usage                               0.055618                0.055618   \n",
              "env_facility_count                     -0.027343               -0.027343   \n",
              "building_20_count                       0.073480                0.073480   \n",
              "basic_S_Dot_YN                          0.054037                0.054037   \n",
              "\n",
              "                          subway_noise_buffer_YN  val_total  val_senior  ...  \\\n",
              "factory_micro                          -0.024608  -0.039373   -0.035134  ...   \n",
              "construction_micro                      0.253503   0.131887    0.109044  ...   \n",
              "factory_noise                          -0.019696  -0.026893   -0.023667  ...   \n",
              "construction_noise                      0.205518   0.098837    0.077427  ...   \n",
              "bus_passenger_count                     0.240598   0.135181    0.119543  ...   \n",
              "subway_passenger_count                  0.586886   0.158158    0.132610  ...   \n",
              "subway_noise_buffer300                  0.586886   0.158158    0.132610  ...   \n",
              "subway_noise_buffer_YN                  1.000000   0.277700    0.254433  ...   \n",
              "val_total                               0.277700   1.000000    0.888236  ...   \n",
              "val_senior                              0.254433   0.888236    1.000000  ...   \n",
              "val_junior                              0.196894   0.863690    0.653711  ...   \n",
              "val_basic_livelihood_sig                0.321723   0.634274    0.608560  ...   \n",
              "all_AADT                                0.076433  -0.060244   -0.060156  ...   \n",
              "PSCR_AADT                               0.083850  -0.056584   -0.056930  ...   \n",
              "BUS_AADT                               -0.046503  -0.101996   -0.100559  ...   \n",
              "FGCR_AADT                               0.060608  -0.066663   -0.065086  ...   \n",
              "river_YN                                0.033565  -0.048240   -0.032542  ...   \n",
              "mountain_YN                            -0.359190  -0.181974   -0.147859  ...   \n",
              "park_YN                                -0.133326  -0.144934   -0.135688  ...   \n",
              "commercial_district_YN                  0.267021   0.180655    0.185526  ...   \n",
              "gas_usage                               0.046317   0.067800    0.052830  ...   \n",
              "env_facility_count                     -0.011470  -0.037611   -0.036550  ...   \n",
              "building_20_count                       0.050711   0.122827    0.077818  ...   \n",
              "basic_S_Dot_YN                          0.056101   0.062197    0.081213  ...   \n",
              "\n",
              "                          BUS_AADT  FGCR_AADT  river_YN  mountain_YN  \\\n",
              "factory_micro             0.101205   0.052321  0.068642    -0.054258   \n",
              "construction_micro       -0.036858   0.041366 -0.045801    -0.226214   \n",
              "factory_noise             0.066169   0.032690  0.041914    -0.025575   \n",
              "construction_noise       -0.031138   0.035355 -0.039527    -0.184750   \n",
              "bus_passenger_count      -0.062209   0.041081 -0.027519    -0.195863   \n",
              "subway_passenger_count   -0.044366   0.051572 -0.059374    -0.335063   \n",
              "subway_noise_buffer300   -0.044366   0.051572 -0.059374    -0.335063   \n",
              "subway_noise_buffer_YN   -0.046503   0.060608  0.033565    -0.359190   \n",
              "val_total                -0.101996  -0.066663 -0.048240    -0.181974   \n",
              "val_senior               -0.100559  -0.065086 -0.032542    -0.147859   \n",
              "val_junior               -0.073900  -0.066647 -0.045003    -0.138804   \n",
              "val_basic_livelihood_sig -0.146311  -0.080707 -0.050642    -0.193232   \n",
              "all_AADT                  0.820166   0.988319  0.332097    -0.185089   \n",
              "PSCR_AADT                 0.804655   0.980667  0.330751    -0.188406   \n",
              "BUS_AADT                  1.000000   0.825259  0.253138    -0.090941   \n",
              "FGCR_AADT                 0.825259   1.000000  0.334381    -0.177128   \n",
              "river_YN                  0.253138   0.334381  1.000000    -0.200172   \n",
              "mountain_YN              -0.090941  -0.177128 -0.200172     1.000000   \n",
              "park_YN                  -0.028777  -0.046888 -0.063841     0.148330   \n",
              "commercial_district_YN   -0.067630   0.013815 -0.071810    -0.250997   \n",
              "gas_usage                -0.012931  -0.001265  0.000157    -0.030216   \n",
              "env_facility_count        0.068504   0.063286  0.049627    -0.083582   \n",
              "building_20_count        -0.011057  -0.004301 -0.014717    -0.051572   \n",
              "basic_S_Dot_YN           -0.015458   0.003151 -0.001414    -0.039991   \n",
              "\n",
              "                           park_YN  commercial_district_YN  gas_usage  \\\n",
              "factory_micro            -0.015353               -0.038713  -0.003871   \n",
              "construction_micro       -0.091768                0.283639   0.033987   \n",
              "factory_noise            -0.008876               -0.019187  -0.004063   \n",
              "construction_noise       -0.077016                0.241213   0.029183   \n",
              "bus_passenger_count      -0.098209                0.281685   0.049767   \n",
              "subway_passenger_count   -0.113362                0.355835   0.055618   \n",
              "subway_noise_buffer300   -0.113362                0.355835   0.055618   \n",
              "subway_noise_buffer_YN   -0.133326                0.267021   0.046317   \n",
              "val_total                -0.144934                0.180655   0.067800   \n",
              "val_senior               -0.135688                0.185526   0.052830   \n",
              "val_junior               -0.109324                0.038126   0.063709   \n",
              "val_basic_livelihood_sig -0.188572                0.264938   0.037317   \n",
              "all_AADT                 -0.046015                0.016913  -0.000938   \n",
              "PSCR_AADT                -0.045890                0.020335  -0.000449   \n",
              "BUS_AADT                 -0.028777               -0.067630  -0.012931   \n",
              "FGCR_AADT                -0.046888                0.013815  -0.001265   \n",
              "river_YN                 -0.063841               -0.071810   0.000157   \n",
              "mountain_YN               0.148330               -0.250997  -0.030216   \n",
              "park_YN                   1.000000               -0.070005  -0.019325   \n",
              "commercial_district_YN   -0.070005                1.000000   0.030668   \n",
              "gas_usage                -0.019325                0.030668   1.000000   \n",
              "env_facility_count        0.026957                0.000024   0.007086   \n",
              "building_20_count        -0.020325                0.016337   0.046560   \n",
              "basic_S_Dot_YN           -0.028926                0.066026   0.003768   \n",
              "\n",
              "                          env_facility_count  building_20_count  \\\n",
              "factory_micro                       0.044476          -0.005212   \n",
              "construction_micro                 -0.002669           0.040639   \n",
              "factory_noise                       0.025046          -0.004291   \n",
              "construction_noise                 -0.000202           0.033328   \n",
              "bus_passenger_count                -0.013381           0.047744   \n",
              "subway_passenger_count             -0.027343           0.073480   \n",
              "subway_noise_buffer300             -0.027343           0.073480   \n",
              "subway_noise_buffer_YN             -0.011470           0.050711   \n",
              "val_total                          -0.037611           0.122827   \n",
              "val_senior                         -0.036550           0.077818   \n",
              "val_junior                         -0.026682           0.151843   \n",
              "val_basic_livelihood_sig           -0.045976           0.037305   \n",
              "all_AADT                            0.063925          -0.004513   \n",
              "PSCR_AADT                           0.063298          -0.004308   \n",
              "BUS_AADT                            0.068504          -0.011057   \n",
              "FGCR_AADT                           0.063286          -0.004301   \n",
              "river_YN                            0.049627          -0.014717   \n",
              "mountain_YN                        -0.083582          -0.051572   \n",
              "park_YN                             0.026957          -0.020325   \n",
              "commercial_district_YN              0.000024           0.016337   \n",
              "gas_usage                           0.007086           0.046560   \n",
              "env_facility_count                  1.000000          -0.004923   \n",
              "building_20_count                  -0.004923           1.000000   \n",
              "basic_S_Dot_YN                      0.001328          -0.003044   \n",
              "\n",
              "                          basic_S_Dot_YN  \n",
              "factory_micro                  -0.005112  \n",
              "construction_micro              0.049593  \n",
              "factory_noise                  -0.002139  \n",
              "construction_noise              0.037765  \n",
              "bus_passenger_count             0.065599  \n",
              "subway_passenger_count          0.054037  \n",
              "subway_noise_buffer300          0.054037  \n",
              "subway_noise_buffer_YN          0.056101  \n",
              "val_total                       0.062197  \n",
              "val_senior                      0.081213  \n",
              "val_junior                      0.018895  \n",
              "val_basic_livelihood_sig        0.079557  \n",
              "all_AADT                        0.003328  \n",
              "PSCR_AADT                       0.003959  \n",
              "BUS_AADT                       -0.015458  \n",
              "FGCR_AADT                       0.003151  \n",
              "river_YN                       -0.001414  \n",
              "mountain_YN                    -0.039991  \n",
              "park_YN                        -0.028926  \n",
              "commercial_district_YN          0.066026  \n",
              "gas_usage                       0.003768  \n",
              "env_facility_count              0.001328  \n",
              "building_20_count              -0.003044  \n",
              "basic_S_Dot_YN                  1.000000  \n",
              "\n",
              "[24 rows x 24 columns]"
            ]
          },
          "execution_count": 7,
          "metadata": {},
          "output_type": "execute_result"
        }
      ]
    },
    {
      "cell_type": "markdown",
      "metadata": {
        "id": "TU6AO4-Aaba3"
      },
      "source": [
        "### 종속변수와 독립변수들 간의 상관성 확인 "
      ]
    },
    {
      "cell_type": "code",
      "metadata": {
        "id": "5Zn0zwz3aba8",
        "outputId": "055ac518-e710-4b6e-ea6d-e0d0f4116bd7"
      },
      "source": [
        "import seaborn as sns\n",
        "sns.heatmap(pd.concat([feature, target],axis=1).corr())"
      ],
      "execution_count": null,
      "outputs": [
        {
          "name": "stderr",
          "output_type": "stream",
          "text": [
            "findfont: Font family ['Malgun Gothic'] not found. Falling back to DejaVu Sans.\n"
          ]
        },
        {
          "data": {
            "text/plain": [
              "<AxesSubplot:>"
            ]
          },
          "execution_count": 8,
          "metadata": {},
          "output_type": "execute_result"
        },
        {
          "data": {
            "image/png": "[encoded data removed]",
            "text/plain": [
              "<Figure size 432x288 with 2 Axes>"
            ]
          },
          "metadata": {
            "needs_background": "light"
          },
          "output_type": "display_data"
        }
      ]
    },
    {
      "cell_type": "code",
      "metadata": {
        "scrolled": true,
        "id": "-XdWLy3paba-",
        "outputId": "5c728a15-cf59-48a2-d1c6-e673c0512200"
      },
      "source": [
        "# plt.rcParams['font.family'] = 'NanumGothic'\n",
        "\n",
        "import seaborn as sns\n",
        "pd.DataFrame(pd.concat([feature, target],axis=1).corr().iloc[21,:]).T\n",
        "fig = plt.figure(figsize=(4,8))\n",
        "fig = sns.heatmap(pd.DataFrame(pd.concat([feature, target],axis=1).corr().iloc[23,:]))\n"
      ],
      "execution_count": null,
      "outputs": [
        {
          "data": {
            "image/png": "[encoded data removed]",
            "text/plain": [
              "<Figure size 288x576 with 2 Axes>"
            ]
          },
          "metadata": {
            "needs_background": "light"
          },
          "output_type": "display_data"
        }
      ]
    },
    {
      "cell_type": "code",
      "metadata": {
        "scrolled": true,
        "id": "PnPSbMrVaba_",
        "outputId": "11b9eeb4-1a62-45b7-e02f-8dc78e236905"
      },
      "source": [
        "target.value_counts()"
      ],
      "execution_count": null,
      "outputs": [
        {
          "data": {
            "text/plain": [
              "0.0    60600\n",
              "1.0     1049\n",
              "Name: basic_S_Dot_YN, dtype: int64"
            ]
          },
          "execution_count": 10,
          "metadata": {},
          "output_type": "execute_result"
        }
      ]
    },
    {
      "cell_type": "code",
      "metadata": {
        "id": "2cqhrrHrabbA",
        "outputId": "1150db66-de97-4867-ef2d-78b05574651b"
      },
      "source": [
        "feature.shape"
      ],
      "execution_count": null,
      "outputs": [
        {
          "data": {
            "text/plain": [
              "(61649, 23)"
            ]
          },
          "execution_count": 11,
          "metadata": {},
          "output_type": "execute_result"
        }
      ]
    },
    {
      "cell_type": "code",
      "metadata": {
        "scrolled": false,
        "id": "Ft2z9OUaabbB",
        "outputId": "9343e562-f178-4991-eff4-c26920f32d24"
      },
      "source": [
        "import matplotlib.pyplot as plt\n",
        "fig, axes= plt.subplots(6,4, figsize=(25,25))\n",
        "ax = axes.flatten()\n",
        "for i in range(23):\n",
        "    feature.iloc[:,i].plot(kind='hist', ax= ax[i], title=feature.columns[i])\n",
        "    #sns.distplot(feature.iloc[:,i], ax=ax[i])"
      ],
      "execution_count": null,
      "outputs": [
        {
          "name": "stderr",
          "output_type": "stream",
          "text": [
            "findfont: Font family ['Malgun Gothic'] not found. Falling back to DejaVu Sans.\n"
          ]
        },
        {
          "data": {
            "image/png": "[encoded data removed]",
            "text/plain": [
              "<Figure size 1800x1800 with 24 Axes>"
            ]
          },
          "metadata": {
            "needs_background": "light"
          },
          "output_type": "display_data"
        }
      ]
    },
    {
      "cell_type": "markdown",
      "metadata": {
        "id": "-0sxkxVXabbC"
      },
      "source": [
        "**모든 변수가 0의 비율이 크게나타난다는 특징이 존재**"
      ]
    },
    {
      "cell_type": "markdown",
      "metadata": {
        "id": "ZlVq4YgTabbC"
      },
      "source": [
        "## Scaling 비교 적용\n",
        "### 원본 "
      ]
    },
    {
      "cell_type": "code",
      "metadata": {
        "scrolled": true,
        "id": "HYGY8AY3abbD",
        "outputId": "0cfb33c8-f0b0-4035-d797-d6af52bac815"
      },
      "source": [
        "feature.all_AADT.plot(kind='hist')"
      ],
      "execution_count": null,
      "outputs": [
        {
          "data": {
            "text/plain": [
              "<AxesSubplot:ylabel='Frequency'>"
            ]
          },
          "execution_count": 13,
          "metadata": {},
          "output_type": "execute_result"
        },
        {
          "data": {
            "image/png": "[encoded data removed]",
            "text/plain": [
              "<Figure size 432x288 with 1 Axes>"
            ]
          },
          "metadata": {
            "needs_background": "light"
          },
          "output_type": "display_data"
        }
      ]
    },
    {
      "cell_type": "markdown",
      "metadata": {
        "id": "GhzPdLGiabbD"
      },
      "source": [
        "### 정규화"
      ]
    },
    {
      "cell_type": "code",
      "metadata": {
        "scrolled": true,
        "id": "SjmAsRIWabbE",
        "outputId": "cf611dc1-61cf-4bf0-bcf1-c79619290dc6"
      },
      "source": [
        "from sklearn.preprocessing import Normalizer\n",
        "nomalize = Normalizer()\n",
        "sns.distplot(nomalize.fit_transform(feature.all_AADT.values.reshape(1, -1)))"
      ],
      "execution_count": null,
      "outputs": [
        {
          "name": "stderr",
          "output_type": "stream",
          "text": [
            "/opt/app-root/lib/python3.6/site-packages/seaborn/distributions.py:2557: FutureWarning: `distplot` is a deprecated function and will be removed in a future version. Please adapt your code to use either `displot` (a figure-level function with similar flexibility) or `histplot` (an axes-level function for histograms).\n",
            "  warnings.warn(msg, FutureWarning)\n"
          ]
        },
        {
          "data": {
            "text/plain": [
              "<AxesSubplot:ylabel='Density'>"
            ]
          },
          "execution_count": 14,
          "metadata": {},
          "output_type": "execute_result"
        },
        {
          "data": {
            "image/png": "[encoded data removed]",
            "text/plain": [
              "<Figure size 432x288 with 1 Axes>"
            ]
          },
          "metadata": {
            "needs_background": "light"
          },
          "output_type": "display_data"
        }
      ]
    },
    {
      "cell_type": "markdown",
      "metadata": {
        "id": "NdQ_RQOyabbE"
      },
      "source": [
        "### 표준화"
      ]
    },
    {
      "cell_type": "code",
      "metadata": {
        "scrolled": false,
        "id": "L1KYLXm8abbE",
        "outputId": "a2deda1a-b6ca-4db1-f2f3-75f136a62dd9"
      },
      "source": [
        "from sklearn.preprocessing import StandardScaler \n",
        "SS = StandardScaler()\n",
        "sns.distplot(SS.fit_transform(feature.all_AADT.values.reshape(1, -1)))"
      ],
      "execution_count": null,
      "outputs": [
        {
          "name": "stderr",
          "output_type": "stream",
          "text": [
            "/opt/app-root/lib/python3.6/site-packages/seaborn/distributions.py:2557: FutureWarning: `distplot` is a deprecated function and will be removed in a future version. Please adapt your code to use either `displot` (a figure-level function with similar flexibility) or `histplot` (an axes-level function for histograms).\n",
            "  warnings.warn(msg, FutureWarning)\n",
            "/opt/app-root/lib/python3.6/site-packages/seaborn/distributions.py:306: UserWarning: Dataset has 0 variance; skipping density estimate.\n",
            "  warnings.warn(msg, UserWarning)\n"
          ]
        },
        {
          "data": {
            "text/plain": [
              "<AxesSubplot:ylabel='Density'>"
            ]
          },
          "execution_count": 15,
          "metadata": {},
          "output_type": "execute_result"
        },
        {
          "data": {
            "image/png": "[encoded data removed]",
            "text/plain": [
              "<Figure size 432x288 with 1 Axes>"
            ]
          },
          "metadata": {
            "needs_background": "light"
          },
          "output_type": "display_data"
        }
      ]
    },
    {
      "cell_type": "markdown",
      "metadata": {
        "id": "sOEhakbpabbF"
      },
      "source": [
        "### MinMax"
      ]
    },
    {
      "cell_type": "code",
      "metadata": {
        "scrolled": true,
        "id": "El81-67xabbF",
        "outputId": "3eb2b165-4e2a-4b1a-82ac-06a2d53fe793"
      },
      "source": [
        "((feature.all_AADT - feature.all_AADT.min()) /( feature.all_AADT.max() - feature.all_AADT.min()) ).plot(kind='hist')"
      ],
      "execution_count": null,
      "outputs": [
        {
          "data": {
            "text/plain": [
              "<AxesSubplot:ylabel='Frequency'>"
            ]
          },
          "execution_count": 16,
          "metadata": {},
          "output_type": "execute_result"
        },
        {
          "data": {
            "image/png": "[encoded data removed]",
            "text/plain": [
              "<Figure size 432x288 with 1 Axes>"
            ]
          },
          "metadata": {
            "needs_background": "light"
          },
          "output_type": "display_data"
        }
      ]
    },
    {
      "cell_type": "markdown",
      "metadata": {
        "id": "07kySDMLabbF"
      },
      "source": [
        "**all_AADT변수를 기준으로 정규화, 표준화, MinMax 스케일링을 비교해본 결과**  \n",
        "-> 값의 범위를 0~1 값으로 스케일링 하는 MinMax 스케일링 방법을 적용 하여 모델을 돌리기로 결정함."
      ]
    },
    {
      "cell_type": "code",
      "metadata": {
        "scrolled": true,
        "id": "1ze5Z7dCabbG",
        "outputId": "e17852d4-7f0e-4d18-d551-5e5fefa3e7f6"
      },
      "source": [
        "feature.columns"
      ],
      "execution_count": null,
      "outputs": [
        {
          "data": {
            "text/plain": [
              "Index(['factory_micro', 'construction_micro', 'factory_noise',\n",
              "       'construction_noise', 'bus_passenger_count', 'subway_passenger_count',\n",
              "       'subway_noise_buffer300', 'subway_noise_buffer_YN', 'val_total',\n",
              "       'val_senior', 'val_junior', 'val_basic_livelihood_sig', 'all_AADT',\n",
              "       'PSCR_AADT', 'BUS_AADT', 'FGCR_AADT', 'river_YN', 'mountain_YN',\n",
              "       'park_YN', 'commercial_district_YN', 'gas_usage', 'env_facility_count',\n",
              "       'building_20_count'],\n",
              "      dtype='object')"
            ]
          },
          "execution_count": 17,
          "metadata": {},
          "output_type": "execute_result"
        }
      ]
    },
    {
      "cell_type": "markdown",
      "metadata": {
        "id": "MkAIcuC3abbG"
      },
      "source": [
        "#### MinMax 스케일링 적용"
      ]
    },
    {
      "cell_type": "code",
      "metadata": {
        "id": "i0UcRrI7abbG",
        "outputId": "6f752577-5227-4378-cc52-b1cfa105944e"
      },
      "source": [
        "from sklearn.preprocessing import MinMaxScaler\n",
        "MM = MinMaxScaler()\n",
        "feature_scaled=pd.DataFrame(MM.fit_transform(feature.drop(['subway_noise_buffer_YN', 'river_YN', 'mountain_YN',  'commercial_district_YN'], axis=1)))\n",
        "feature_scaled.columns = ['factory_micro', 'construction_micro', 'factory_noise','construction_noise', 'bus_passenger_count', 'subway_passenger_count', \n",
        "                          'subway_noise_buffer300',  'val_total', 'val_senior', 'val_junior', 'val_basic_livelihood_sig', 'all_AADT',\n",
        "                          'PSCR_AADT', 'BUS_AADT', 'FGCR_AADT','park_YN', 'gas_usage', 'env_facility_count','building_20_count']\n",
        "\n",
        "feature_scaled = pd.concat([feature_scaled, feature[['subway_noise_buffer_YN', 'river_YN', 'mountain_YN',  'commercial_district_YN']]], axis=1)\n",
        "feature_scaled\n"
      ],
      "execution_count": null,
      "outputs": [
        {
          "data": {
            "text/html": [
              "<div>\n",
              "<style scoped>\n",
              "    .dataframe tbody tr th:only-of-type {\n",
              "        vertical-align: middle;\n",
              "    }\n",
              "\n",
              "    .dataframe tbody tr th {\n",
              "        vertical-align: top;\n",
              "    }\n",
              "\n",
              "    .dataframe thead th {\n",
              "        text-align: right;\n",
              "    }\n",
              "</style>\n",
              "<table border=\"1\" class=\"dataframe\">\n",
              "  <thead>\n",
              "    <tr style=\"text-align: right;\">\n",
              "      <th></th>\n",
              "      <th>factory_micro</th>\n",
              "      <th>construction_micro</th>\n",
              "      <th>factory_noise</th>\n",
              "      <th>construction_noise</th>\n",
              "      <th>bus_passenger_count</th>\n",
              "      <th>subway_passenger_count</th>\n",
              "      <th>subway_noise_buffer300</th>\n",
              "      <th>val_total</th>\n",
              "      <th>val_senior</th>\n",
              "      <th>val_junior</th>\n",
              "      <th>...</th>\n",
              "      <th>BUS_AADT</th>\n",
              "      <th>FGCR_AADT</th>\n",
              "      <th>park_YN</th>\n",
              "      <th>gas_usage</th>\n",
              "      <th>env_facility_count</th>\n",
              "      <th>building_20_count</th>\n",
              "      <th>subway_noise_buffer_YN</th>\n",
              "      <th>river_YN</th>\n",
              "      <th>mountain_YN</th>\n",
              "      <th>commercial_district_YN</th>\n",
              "    </tr>\n",
              "  </thead>\n",
              "  <tbody>\n",
              "    <tr>\n",
              "      <th>0</th>\n",
              "      <td>0.0</td>\n",
              "      <td>0.000000</td>\n",
              "      <td>0.0</td>\n",
              "      <td>0.00000</td>\n",
              "      <td>0.0</td>\n",
              "      <td>0.0</td>\n",
              "      <td>0.0</td>\n",
              "      <td>0.0</td>\n",
              "      <td>0.0</td>\n",
              "      <td>0.0</td>\n",
              "      <td>...</td>\n",
              "      <td>0.000000</td>\n",
              "      <td>0.000000</td>\n",
              "      <td>0.0</td>\n",
              "      <td>0.000351</td>\n",
              "      <td>0.0</td>\n",
              "      <td>0.0</td>\n",
              "      <td>0</td>\n",
              "      <td>1</td>\n",
              "      <td>0</td>\n",
              "      <td>0</td>\n",
              "    </tr>\n",
              "    <tr>\n",
              "      <th>1</th>\n",
              "      <td>0.0</td>\n",
              "      <td>0.000000</td>\n",
              "      <td>0.0</td>\n",
              "      <td>0.00000</td>\n",
              "      <td>0.0</td>\n",
              "      <td>0.0</td>\n",
              "      <td>0.0</td>\n",
              "      <td>0.0</td>\n",
              "      <td>0.0</td>\n",
              "      <td>0.0</td>\n",
              "      <td>...</td>\n",
              "      <td>0.000000</td>\n",
              "      <td>0.000000</td>\n",
              "      <td>0.0</td>\n",
              "      <td>0.000351</td>\n",
              "      <td>0.0</td>\n",
              "      <td>0.0</td>\n",
              "      <td>0</td>\n",
              "      <td>1</td>\n",
              "      <td>0</td>\n",
              "      <td>0</td>\n",
              "    </tr>\n",
              "    <tr>\n",
              "      <th>2</th>\n",
              "      <td>0.0</td>\n",
              "      <td>0.000000</td>\n",
              "      <td>0.0</td>\n",
              "      <td>0.00000</td>\n",
              "      <td>0.0</td>\n",
              "      <td>0.0</td>\n",
              "      <td>0.0</td>\n",
              "      <td>0.0</td>\n",
              "      <td>0.0</td>\n",
              "      <td>0.0</td>\n",
              "      <td>...</td>\n",
              "      <td>0.067106</td>\n",
              "      <td>0.153396</td>\n",
              "      <td>0.0</td>\n",
              "      <td>0.000351</td>\n",
              "      <td>0.0</td>\n",
              "      <td>0.0</td>\n",
              "      <td>0</td>\n",
              "      <td>1</td>\n",
              "      <td>0</td>\n",
              "      <td>0</td>\n",
              "    </tr>\n",
              "    <tr>\n",
              "      <th>3</th>\n",
              "      <td>0.0</td>\n",
              "      <td>0.000000</td>\n",
              "      <td>0.0</td>\n",
              "      <td>0.00000</td>\n",
              "      <td>0.0</td>\n",
              "      <td>0.0</td>\n",
              "      <td>0.0</td>\n",
              "      <td>0.0</td>\n",
              "      <td>0.0</td>\n",
              "      <td>0.0</td>\n",
              "      <td>...</td>\n",
              "      <td>0.067106</td>\n",
              "      <td>0.153320</td>\n",
              "      <td>0.0</td>\n",
              "      <td>0.000351</td>\n",
              "      <td>0.0</td>\n",
              "      <td>0.0</td>\n",
              "      <td>0</td>\n",
              "      <td>1</td>\n",
              "      <td>0</td>\n",
              "      <td>0</td>\n",
              "    </tr>\n",
              "    <tr>\n",
              "      <th>4</th>\n",
              "      <td>0.0</td>\n",
              "      <td>0.000000</td>\n",
              "      <td>0.0</td>\n",
              "      <td>0.00000</td>\n",
              "      <td>0.0</td>\n",
              "      <td>0.0</td>\n",
              "      <td>0.0</td>\n",
              "      <td>0.0</td>\n",
              "      <td>0.0</td>\n",
              "      <td>0.0</td>\n",
              "      <td>...</td>\n",
              "      <td>0.024098</td>\n",
              "      <td>0.048125</td>\n",
              "      <td>0.0</td>\n",
              "      <td>0.000351</td>\n",
              "      <td>0.0</td>\n",
              "      <td>0.0</td>\n",
              "      <td>0</td>\n",
              "      <td>1</td>\n",
              "      <td>0</td>\n",
              "      <td>0</td>\n",
              "    </tr>\n",
              "    <tr>\n",
              "      <th>...</th>\n",
              "      <td>...</td>\n",
              "      <td>...</td>\n",
              "      <td>...</td>\n",
              "      <td>...</td>\n",
              "      <td>...</td>\n",
              "      <td>...</td>\n",
              "      <td>...</td>\n",
              "      <td>...</td>\n",
              "      <td>...</td>\n",
              "      <td>...</td>\n",
              "      <td>...</td>\n",
              "      <td>...</td>\n",
              "      <td>...</td>\n",
              "      <td>...</td>\n",
              "      <td>...</td>\n",
              "      <td>...</td>\n",
              "      <td>...</td>\n",
              "      <td>...</td>\n",
              "      <td>...</td>\n",
              "      <td>...</td>\n",
              "      <td>...</td>\n",
              "    </tr>\n",
              "    <tr>\n",
              "      <th>61644</th>\n",
              "      <td>0.0</td>\n",
              "      <td>0.000000</td>\n",
              "      <td>0.0</td>\n",
              "      <td>0.00000</td>\n",
              "      <td>0.0</td>\n",
              "      <td>0.0</td>\n",
              "      <td>0.0</td>\n",
              "      <td>0.0</td>\n",
              "      <td>0.0</td>\n",
              "      <td>0.0</td>\n",
              "      <td>...</td>\n",
              "      <td>0.732440</td>\n",
              "      <td>1.000000</td>\n",
              "      <td>0.0</td>\n",
              "      <td>0.000351</td>\n",
              "      <td>0.0</td>\n",
              "      <td>0.0</td>\n",
              "      <td>0</td>\n",
              "      <td>0</td>\n",
              "      <td>1</td>\n",
              "      <td>0</td>\n",
              "    </tr>\n",
              "    <tr>\n",
              "      <th>61645</th>\n",
              "      <td>0.0</td>\n",
              "      <td>0.000000</td>\n",
              "      <td>0.0</td>\n",
              "      <td>0.00000</td>\n",
              "      <td>0.0</td>\n",
              "      <td>0.0</td>\n",
              "      <td>0.0</td>\n",
              "      <td>0.0</td>\n",
              "      <td>0.0</td>\n",
              "      <td>0.0</td>\n",
              "      <td>...</td>\n",
              "      <td>0.281968</td>\n",
              "      <td>0.384962</td>\n",
              "      <td>0.0</td>\n",
              "      <td>0.000351</td>\n",
              "      <td>0.0</td>\n",
              "      <td>0.0</td>\n",
              "      <td>0</td>\n",
              "      <td>0</td>\n",
              "      <td>1</td>\n",
              "      <td>0</td>\n",
              "    </tr>\n",
              "    <tr>\n",
              "      <th>61646</th>\n",
              "      <td>0.0</td>\n",
              "      <td>0.000000</td>\n",
              "      <td>0.0</td>\n",
              "      <td>0.00000</td>\n",
              "      <td>0.0</td>\n",
              "      <td>0.0</td>\n",
              "      <td>0.0</td>\n",
              "      <td>0.0</td>\n",
              "      <td>0.0</td>\n",
              "      <td>0.0</td>\n",
              "      <td>...</td>\n",
              "      <td>0.006358</td>\n",
              "      <td>0.009324</td>\n",
              "      <td>0.0</td>\n",
              "      <td>0.000351</td>\n",
              "      <td>0.0</td>\n",
              "      <td>0.0</td>\n",
              "      <td>0</td>\n",
              "      <td>0</td>\n",
              "      <td>1</td>\n",
              "      <td>0</td>\n",
              "    </tr>\n",
              "    <tr>\n",
              "      <th>61647</th>\n",
              "      <td>0.0</td>\n",
              "      <td>0.030303</td>\n",
              "      <td>0.0</td>\n",
              "      <td>0.00000</td>\n",
              "      <td>0.0</td>\n",
              "      <td>0.0</td>\n",
              "      <td>0.0</td>\n",
              "      <td>0.0</td>\n",
              "      <td>0.0</td>\n",
              "      <td>0.0</td>\n",
              "      <td>...</td>\n",
              "      <td>0.006457</td>\n",
              "      <td>0.009771</td>\n",
              "      <td>0.0</td>\n",
              "      <td>0.000351</td>\n",
              "      <td>0.0</td>\n",
              "      <td>0.0</td>\n",
              "      <td>0</td>\n",
              "      <td>0</td>\n",
              "      <td>1</td>\n",
              "      <td>0</td>\n",
              "    </tr>\n",
              "    <tr>\n",
              "      <th>61648</th>\n",
              "      <td>0.0</td>\n",
              "      <td>0.030303</td>\n",
              "      <td>0.0</td>\n",
              "      <td>0.03125</td>\n",
              "      <td>0.0</td>\n",
              "      <td>0.0</td>\n",
              "      <td>0.0</td>\n",
              "      <td>0.0</td>\n",
              "      <td>0.0</td>\n",
              "      <td>0.0</td>\n",
              "      <td>...</td>\n",
              "      <td>0.006457</td>\n",
              "      <td>0.009771</td>\n",
              "      <td>0.0</td>\n",
              "      <td>0.000351</td>\n",
              "      <td>0.0</td>\n",
              "      <td>0.0</td>\n",
              "      <td>0</td>\n",
              "      <td>0</td>\n",
              "      <td>1</td>\n",
              "      <td>0</td>\n",
              "    </tr>\n",
              "  </tbody>\n",
              "</table>\n",
              "<p>61649 rows × 23 columns</p>\n",
              "</div>"
            ],
            "text/plain": [
              "       factory_micro  construction_micro  factory_noise  construction_noise  \\\n",
              "0                0.0            0.000000            0.0             0.00000   \n",
              "1                0.0            0.000000            0.0             0.00000   \n",
              "2                0.0            0.000000            0.0             0.00000   \n",
              "3                0.0            0.000000            0.0             0.00000   \n",
              "4                0.0            0.000000            0.0             0.00000   \n",
              "...              ...                 ...            ...                 ...   \n",
              "61644            0.0            0.000000            0.0             0.00000   \n",
              "61645            0.0            0.000000            0.0             0.00000   \n",
              "61646            0.0            0.000000            0.0             0.00000   \n",
              "61647            0.0            0.030303            0.0             0.00000   \n",
              "61648            0.0            0.030303            0.0             0.03125   \n",
              "\n",
              "       bus_passenger_count  subway_passenger_count  subway_noise_buffer300  \\\n",
              "0                      0.0                     0.0                     0.0   \n",
              "1                      0.0                     0.0                     0.0   \n",
              "2                      0.0                     0.0                     0.0   \n",
              "3                      0.0                     0.0                     0.0   \n",
              "4                      0.0                     0.0                     0.0   \n",
              "...                    ...                     ...                     ...   \n",
              "61644                  0.0                     0.0                     0.0   \n",
              "61645                  0.0                     0.0                     0.0   \n",
              "61646                  0.0                     0.0                     0.0   \n",
              "61647                  0.0                     0.0                     0.0   \n",
              "61648                  0.0                     0.0                     0.0   \n",
              "\n",
              "       val_total  val_senior  val_junior  ...  BUS_AADT  FGCR_AADT  park_YN  \\\n",
              "0            0.0         0.0         0.0  ...  0.000000   0.000000      0.0   \n",
              "1            0.0         0.0         0.0  ...  0.000000   0.000000      0.0   \n",
              "2            0.0         0.0         0.0  ...  0.067106   0.153396      0.0   \n",
              "3            0.0         0.0         0.0  ...  0.067106   0.153320      0.0   \n",
              "4            0.0         0.0         0.0  ...  0.024098   0.048125      0.0   \n",
              "...          ...         ...         ...  ...       ...        ...      ...   \n",
              "61644        0.0         0.0         0.0  ...  0.732440   1.000000      0.0   \n",
              "61645        0.0         0.0         0.0  ...  0.281968   0.384962      0.0   \n",
              "61646        0.0         0.0         0.0  ...  0.006358   0.009324      0.0   \n",
              "61647        0.0         0.0         0.0  ...  0.006457   0.009771      0.0   \n",
              "61648        0.0         0.0         0.0  ...  0.006457   0.009771      0.0   \n",
              "\n",
              "       gas_usage  env_facility_count  building_20_count  \\\n",
              "0       0.000351                 0.0                0.0   \n",
              "1       0.000351                 0.0                0.0   \n",
              "2       0.000351                 0.0                0.0   \n",
              "3       0.000351                 0.0                0.0   \n",
              "4       0.000351                 0.0                0.0   \n",
              "...          ...                 ...                ...   \n",
              "61644   0.000351                 0.0                0.0   \n",
              "61645   0.000351                 0.0                0.0   \n",
              "61646   0.000351                 0.0                0.0   \n",
              "61647   0.000351                 0.0                0.0   \n",
              "61648   0.000351                 0.0                0.0   \n",
              "\n",
              "       subway_noise_buffer_YN  river_YN  mountain_YN  commercial_district_YN  \n",
              "0                           0         1            0                       0  \n",
              "1                           0         1            0                       0  \n",
              "2                           0         1            0                       0  \n",
              "3                           0         1            0                       0  \n",
              "4                           0         1            0                       0  \n",
              "...                       ...       ...          ...                     ...  \n",
              "61644                       0         0            1                       0  \n",
              "61645                       0         0            1                       0  \n",
              "61646                       0         0            1                       0  \n",
              "61647                       0         0            1                       0  \n",
              "61648                       0         0            1                       0  \n",
              "\n",
              "[61649 rows x 23 columns]"
            ]
          },
          "execution_count": 18,
          "metadata": {},
          "output_type": "execute_result"
        }
      ]
    },
    {
      "cell_type": "code",
      "metadata": {
        "scrolled": false,
        "id": "egQEIDE2abbH",
        "outputId": "8ff438d4-cd08-4433-8bf0-25364e82706b"
      },
      "source": [
        "import matplotlib.pyplot as plt\n",
        "fig, axes= plt.subplots(6,4, figsize=(25,25))\n",
        "ax = axes.flatten()\n",
        "for i in range(23):\n",
        "    feature_scaled.iloc[:,i].plot(kind='hist', ax= ax[i])\n",
        "    #sns.distplot(tem.iloc[:,i], ax=ax[i])"
      ],
      "execution_count": null,
      "outputs": [
        {
          "data": {
            "image/png": "[encoded data removed]",
            "text/plain": [
              "<Figure size 1800x1800 with 24 Axes>"
            ]
          },
          "metadata": {
            "needs_background": "light"
          },
          "output_type": "display_data"
        }
      ]
    },
    {
      "cell_type": "markdown",
      "metadata": {
        "id": "3rrwklalabbH"
      },
      "source": [
        "### 스케일 적용 후종속변수(기본센서설치여부)와 독립변수들 간의 상관성 확인 "
      ]
    },
    {
      "cell_type": "code",
      "metadata": {
        "scrolled": false,
        "id": "2UuW2R9eabbH",
        "outputId": "308688ef-255b-42f9-93ed-9a4164d87de1"
      },
      "source": [
        "# plt.rcParams['font.family'] = 'NanumGothic'\n",
        "\n",
        "import seaborn as sns\n",
        "pd.DataFrame(pd.concat([feature_scaled, target],axis=1).corr().iloc[21,:]).T\n",
        "fig = plt.figure(figsize=(4,8))\n",
        "fig = sns.heatmap(pd.DataFrame(pd.concat([feature_scaled, target],axis=1).corr().iloc[23,:]))\n"
      ],
      "execution_count": null,
      "outputs": [
        {
          "data": {
            "image/png": "[encoded data removed]",
            "text/plain": [
              "<Figure size 288x576 with 2 Axes>"
            ]
          },
          "metadata": {
            "needs_background": "light"
          },
          "output_type": "display_data"
        }
      ]
    },
    {
      "cell_type": "markdown",
      "metadata": {
        "id": "pO77FfnDabbH"
      },
      "source": [
        "나아 진 것이 없어 보임"
      ]
    },
    {
      "cell_type": "markdown",
      "metadata": {
        "id": "RvFitftSabbI"
      },
      "source": [
        "### 오버샘플링 적용\n",
        " - 종속변수의 비율이 0에 치우쳐져 있으므로 오버샘플링을 통해 범주별 개수를 맞춰주는 작업 시행\n",
        " - 적용 알고리즘 : ADASYN"
      ]
    },
    {
      "cell_type": "code",
      "metadata": {
        "id": "Kvz7W0ShabbI"
      },
      "source": [
        "from imblearn.over_sampling import ADASYN\n",
        "# strategy = {1:76, 2:76, 3:76, 5:76, 6:76, 7:76}\n",
        "X_resampled, y_resampled = ADASYN().fit_resample(feature_scaled, target)"
      ],
      "execution_count": null,
      "outputs": []
    },
    {
      "cell_type": "code",
      "metadata": {
        "id": "s8BDxUNIabbJ",
        "outputId": "7cf69028-223a-4de2-942c-9c5fbde7f114"
      },
      "source": [
        "X_resampled"
      ],
      "execution_count": null,
      "outputs": [
        {
          "data": {
            "text/html": [
              "<div>\n",
              "<style scoped>\n",
              "    .dataframe tbody tr th:only-of-type {\n",
              "        vertical-align: middle;\n",
              "    }\n",
              "\n",
              "    .dataframe tbody tr th {\n",
              "        vertical-align: top;\n",
              "    }\n",
              "\n",
              "    .dataframe thead th {\n",
              "        text-align: right;\n",
              "    }\n",
              "</style>\n",
              "<table border=\"1\" class=\"dataframe\">\n",
              "  <thead>\n",
              "    <tr style=\"text-align: right;\">\n",
              "      <th></th>\n",
              "      <th>factory_micro</th>\n",
              "      <th>construction_micro</th>\n",
              "      <th>factory_noise</th>\n",
              "      <th>construction_noise</th>\n",
              "      <th>bus_passenger_count</th>\n",
              "      <th>subway_passenger_count</th>\n",
              "      <th>subway_noise_buffer300</th>\n",
              "      <th>val_total</th>\n",
              "      <th>val_senior</th>\n",
              "      <th>val_junior</th>\n",
              "      <th>...</th>\n",
              "      <th>BUS_AADT</th>\n",
              "      <th>FGCR_AADT</th>\n",
              "      <th>park_YN</th>\n",
              "      <th>gas_usage</th>\n",
              "      <th>env_facility_count</th>\n",
              "      <th>building_20_count</th>\n",
              "      <th>subway_noise_buffer_YN</th>\n",
              "      <th>river_YN</th>\n",
              "      <th>mountain_YN</th>\n",
              "      <th>commercial_district_YN</th>\n",
              "    </tr>\n",
              "  </thead>\n",
              "  <tbody>\n",
              "    <tr>\n",
              "      <th>0</th>\n",
              "      <td>0.0</td>\n",
              "      <td>0.000000</td>\n",
              "      <td>0.0</td>\n",
              "      <td>0.000000</td>\n",
              "      <td>0.000000</td>\n",
              "      <td>0.0</td>\n",
              "      <td>0.0</td>\n",
              "      <td>0.0</td>\n",
              "      <td>0.0</td>\n",
              "      <td>0.0</td>\n",
              "      <td>...</td>\n",
              "      <td>0.000000</td>\n",
              "      <td>0.000000</td>\n",
              "      <td>0.0</td>\n",
              "      <td>0.000351</td>\n",
              "      <td>0.0</td>\n",
              "      <td>0.0</td>\n",
              "      <td>0</td>\n",
              "      <td>1</td>\n",
              "      <td>0</td>\n",
              "      <td>0</td>\n",
              "    </tr>\n",
              "    <tr>\n",
              "      <th>1</th>\n",
              "      <td>0.0</td>\n",
              "      <td>0.000000</td>\n",
              "      <td>0.0</td>\n",
              "      <td>0.000000</td>\n",
              "      <td>0.000000</td>\n",
              "      <td>0.0</td>\n",
              "      <td>0.0</td>\n",
              "      <td>0.0</td>\n",
              "      <td>0.0</td>\n",
              "      <td>0.0</td>\n",
              "      <td>...</td>\n",
              "      <td>0.000000</td>\n",
              "      <td>0.000000</td>\n",
              "      <td>0.0</td>\n",
              "      <td>0.000351</td>\n",
              "      <td>0.0</td>\n",
              "      <td>0.0</td>\n",
              "      <td>0</td>\n",
              "      <td>1</td>\n",
              "      <td>0</td>\n",
              "      <td>0</td>\n",
              "    </tr>\n",
              "    <tr>\n",
              "      <th>2</th>\n",
              "      <td>0.0</td>\n",
              "      <td>0.000000</td>\n",
              "      <td>0.0</td>\n",
              "      <td>0.000000</td>\n",
              "      <td>0.000000</td>\n",
              "      <td>0.0</td>\n",
              "      <td>0.0</td>\n",
              "      <td>0.0</td>\n",
              "      <td>0.0</td>\n",
              "      <td>0.0</td>\n",
              "      <td>...</td>\n",
              "      <td>0.067106</td>\n",
              "      <td>0.153396</td>\n",
              "      <td>0.0</td>\n",
              "      <td>0.000351</td>\n",
              "      <td>0.0</td>\n",
              "      <td>0.0</td>\n",
              "      <td>0</td>\n",
              "      <td>1</td>\n",
              "      <td>0</td>\n",
              "      <td>0</td>\n",
              "    </tr>\n",
              "    <tr>\n",
              "      <th>3</th>\n",
              "      <td>0.0</td>\n",
              "      <td>0.000000</td>\n",
              "      <td>0.0</td>\n",
              "      <td>0.000000</td>\n",
              "      <td>0.000000</td>\n",
              "      <td>0.0</td>\n",
              "      <td>0.0</td>\n",
              "      <td>0.0</td>\n",
              "      <td>0.0</td>\n",
              "      <td>0.0</td>\n",
              "      <td>...</td>\n",
              "      <td>0.067106</td>\n",
              "      <td>0.153320</td>\n",
              "      <td>0.0</td>\n",
              "      <td>0.000351</td>\n",
              "      <td>0.0</td>\n",
              "      <td>0.0</td>\n",
              "      <td>0</td>\n",
              "      <td>1</td>\n",
              "      <td>0</td>\n",
              "      <td>0</td>\n",
              "    </tr>\n",
              "    <tr>\n",
              "      <th>4</th>\n",
              "      <td>0.0</td>\n",
              "      <td>0.000000</td>\n",
              "      <td>0.0</td>\n",
              "      <td>0.000000</td>\n",
              "      <td>0.000000</td>\n",
              "      <td>0.0</td>\n",
              "      <td>0.0</td>\n",
              "      <td>0.0</td>\n",
              "      <td>0.0</td>\n",
              "      <td>0.0</td>\n",
              "      <td>...</td>\n",
              "      <td>0.024098</td>\n",
              "      <td>0.048125</td>\n",
              "      <td>0.0</td>\n",
              "      <td>0.000351</td>\n",
              "      <td>0.0</td>\n",
              "      <td>0.0</td>\n",
              "      <td>0</td>\n",
              "      <td>1</td>\n",
              "      <td>0</td>\n",
              "      <td>0</td>\n",
              "    </tr>\n",
              "    <tr>\n",
              "      <th>...</th>\n",
              "      <td>...</td>\n",
              "      <td>...</td>\n",
              "      <td>...</td>\n",
              "      <td>...</td>\n",
              "      <td>...</td>\n",
              "      <td>...</td>\n",
              "      <td>...</td>\n",
              "      <td>...</td>\n",
              "      <td>...</td>\n",
              "      <td>...</td>\n",
              "      <td>...</td>\n",
              "      <td>...</td>\n",
              "      <td>...</td>\n",
              "      <td>...</td>\n",
              "      <td>...</td>\n",
              "      <td>...</td>\n",
              "      <td>...</td>\n",
              "      <td>...</td>\n",
              "      <td>...</td>\n",
              "      <td>...</td>\n",
              "      <td>...</td>\n",
              "    </tr>\n",
              "    <tr>\n",
              "      <th>120846</th>\n",
              "      <td>0.0</td>\n",
              "      <td>0.006897</td>\n",
              "      <td>0.0</td>\n",
              "      <td>0.007112</td>\n",
              "      <td>0.006327</td>\n",
              "      <td>0.0</td>\n",
              "      <td>0.0</td>\n",
              "      <td>0.0</td>\n",
              "      <td>0.0</td>\n",
              "      <td>0.0</td>\n",
              "      <td>...</td>\n",
              "      <td>0.001752</td>\n",
              "      <td>0.011301</td>\n",
              "      <td>0.0</td>\n",
              "      <td>0.000359</td>\n",
              "      <td>0.0</td>\n",
              "      <td>0.0</td>\n",
              "      <td>0</td>\n",
              "      <td>0</td>\n",
              "      <td>0</td>\n",
              "      <td>0</td>\n",
              "    </tr>\n",
              "    <tr>\n",
              "      <th>120847</th>\n",
              "      <td>0.0</td>\n",
              "      <td>0.019217</td>\n",
              "      <td>0.0</td>\n",
              "      <td>0.019817</td>\n",
              "      <td>0.003291</td>\n",
              "      <td>0.0</td>\n",
              "      <td>0.0</td>\n",
              "      <td>0.0</td>\n",
              "      <td>0.0</td>\n",
              "      <td>0.0</td>\n",
              "      <td>...</td>\n",
              "      <td>0.001768</td>\n",
              "      <td>0.010282</td>\n",
              "      <td>0.0</td>\n",
              "      <td>0.000372</td>\n",
              "      <td>0.0</td>\n",
              "      <td>0.0</td>\n",
              "      <td>0</td>\n",
              "      <td>0</td>\n",
              "      <td>0</td>\n",
              "      <td>0</td>\n",
              "    </tr>\n",
              "    <tr>\n",
              "      <th>120848</th>\n",
              "      <td>0.0</td>\n",
              "      <td>0.030303</td>\n",
              "      <td>0.0</td>\n",
              "      <td>0.031250</td>\n",
              "      <td>0.013773</td>\n",
              "      <td>0.0</td>\n",
              "      <td>0.0</td>\n",
              "      <td>0.0</td>\n",
              "      <td>0.0</td>\n",
              "      <td>0.0</td>\n",
              "      <td>...</td>\n",
              "      <td>0.007825</td>\n",
              "      <td>0.072196</td>\n",
              "      <td>0.0</td>\n",
              "      <td>0.000552</td>\n",
              "      <td>0.0</td>\n",
              "      <td>0.0</td>\n",
              "      <td>0</td>\n",
              "      <td>0</td>\n",
              "      <td>0</td>\n",
              "      <td>0</td>\n",
              "    </tr>\n",
              "    <tr>\n",
              "      <th>120849</th>\n",
              "      <td>0.0</td>\n",
              "      <td>0.005407</td>\n",
              "      <td>0.0</td>\n",
              "      <td>0.005576</td>\n",
              "      <td>0.006694</td>\n",
              "      <td>0.0</td>\n",
              "      <td>0.0</td>\n",
              "      <td>0.0</td>\n",
              "      <td>0.0</td>\n",
              "      <td>0.0</td>\n",
              "      <td>...</td>\n",
              "      <td>0.001750</td>\n",
              "      <td>0.011424</td>\n",
              "      <td>0.0</td>\n",
              "      <td>0.000357</td>\n",
              "      <td>0.0</td>\n",
              "      <td>0.0</td>\n",
              "      <td>0</td>\n",
              "      <td>0</td>\n",
              "      <td>0</td>\n",
              "      <td>0</td>\n",
              "    </tr>\n",
              "    <tr>\n",
              "      <th>120850</th>\n",
              "      <td>0.0</td>\n",
              "      <td>0.030303</td>\n",
              "      <td>0.0</td>\n",
              "      <td>0.031250</td>\n",
              "      <td>0.011692</td>\n",
              "      <td>0.0</td>\n",
              "      <td>0.0</td>\n",
              "      <td>0.0</td>\n",
              "      <td>0.0</td>\n",
              "      <td>0.0</td>\n",
              "      <td>...</td>\n",
              "      <td>0.006873</td>\n",
              "      <td>0.062301</td>\n",
              "      <td>0.0</td>\n",
              "      <td>0.000525</td>\n",
              "      <td>0.0</td>\n",
              "      <td>0.0</td>\n",
              "      <td>0</td>\n",
              "      <td>0</td>\n",
              "      <td>0</td>\n",
              "      <td>0</td>\n",
              "    </tr>\n",
              "  </tbody>\n",
              "</table>\n",
              "<p>120851 rows × 23 columns</p>\n",
              "</div>"
            ],
            "text/plain": [
              "        factory_micro  construction_micro  factory_noise  construction_noise  \\\n",
              "0                 0.0            0.000000            0.0            0.000000   \n",
              "1                 0.0            0.000000            0.0            0.000000   \n",
              "2                 0.0            0.000000            0.0            0.000000   \n",
              "3                 0.0            0.000000            0.0            0.000000   \n",
              "4                 0.0            0.000000            0.0            0.000000   \n",
              "...               ...                 ...            ...                 ...   \n",
              "120846            0.0            0.006897            0.0            0.007112   \n",
              "120847            0.0            0.019217            0.0            0.019817   \n",
              "120848            0.0            0.030303            0.0            0.031250   \n",
              "120849            0.0            0.005407            0.0            0.005576   \n",
              "120850            0.0            0.030303            0.0            0.031250   \n",
              "\n",
              "        bus_passenger_count  subway_passenger_count  subway_noise_buffer300  \\\n",
              "0                  0.000000                     0.0                     0.0   \n",
              "1                  0.000000                     0.0                     0.0   \n",
              "2                  0.000000                     0.0                     0.0   \n",
              "3                  0.000000                     0.0                     0.0   \n",
              "4                  0.000000                     0.0                     0.0   \n",
              "...                     ...                     ...                     ...   \n",
              "120846             0.006327                     0.0                     0.0   \n",
              "120847             0.003291                     0.0                     0.0   \n",
              "120848             0.013773                     0.0                     0.0   \n",
              "120849             0.006694                     0.0                     0.0   \n",
              "120850             0.011692                     0.0                     0.0   \n",
              "\n",
              "        val_total  val_senior  val_junior  ...  BUS_AADT  FGCR_AADT  park_YN  \\\n",
              "0             0.0         0.0         0.0  ...  0.000000   0.000000      0.0   \n",
              "1             0.0         0.0         0.0  ...  0.000000   0.000000      0.0   \n",
              "2             0.0         0.0         0.0  ...  0.067106   0.153396      0.0   \n",
              "3             0.0         0.0         0.0  ...  0.067106   0.153320      0.0   \n",
              "4             0.0         0.0         0.0  ...  0.024098   0.048125      0.0   \n",
              "...           ...         ...         ...  ...       ...        ...      ...   \n",
              "120846        0.0         0.0         0.0  ...  0.001752   0.011301      0.0   \n",
              "120847        0.0         0.0         0.0  ...  0.001768   0.010282      0.0   \n",
              "120848        0.0         0.0         0.0  ...  0.007825   0.072196      0.0   \n",
              "120849        0.0         0.0         0.0  ...  0.001750   0.011424      0.0   \n",
              "120850        0.0         0.0         0.0  ...  0.006873   0.062301      0.0   \n",
              "\n",
              "        gas_usage  env_facility_count  building_20_count  \\\n",
              "0        0.000351                 0.0                0.0   \n",
              "1        0.000351                 0.0                0.0   \n",
              "2        0.000351                 0.0                0.0   \n",
              "3        0.000351                 0.0                0.0   \n",
              "4        0.000351                 0.0                0.0   \n",
              "...           ...                 ...                ...   \n",
              "120846   0.000359                 0.0                0.0   \n",
              "120847   0.000372                 0.0                0.0   \n",
              "120848   0.000552                 0.0                0.0   \n",
              "120849   0.000357                 0.0                0.0   \n",
              "120850   0.000525                 0.0                0.0   \n",
              "\n",
              "        subway_noise_buffer_YN  river_YN  mountain_YN  commercial_district_YN  \n",
              "0                            0         1            0                       0  \n",
              "1                            0         1            0                       0  \n",
              "2                            0         1            0                       0  \n",
              "3                            0         1            0                       0  \n",
              "4                            0         1            0                       0  \n",
              "...                        ...       ...          ...                     ...  \n",
              "120846                       0         0            0                       0  \n",
              "120847                       0         0            0                       0  \n",
              "120848                       0         0            0                       0  \n",
              "120849                       0         0            0                       0  \n",
              "120850                       0         0            0                       0  \n",
              "\n",
              "[120851 rows x 23 columns]"
            ]
          },
          "execution_count": 22,
          "metadata": {},
          "output_type": "execute_result"
        }
      ]
    },
    {
      "cell_type": "code",
      "metadata": {
        "scrolled": false,
        "id": "swdW4RUNabbJ",
        "outputId": "93ed5129-65cf-472e-f24c-c2fa28f00a8d"
      },
      "source": [
        "target.value_counts()"
      ],
      "execution_count": null,
      "outputs": [
        {
          "data": {
            "text/plain": [
              "0.0    60600\n",
              "1.0     1049\n",
              "Name: basic_S_Dot_YN, dtype: int64"
            ]
          },
          "execution_count": 23,
          "metadata": {},
          "output_type": "execute_result"
        }
      ]
    },
    {
      "cell_type": "code",
      "metadata": {
        "scrolled": true,
        "id": "yE8KrjGZabbJ",
        "outputId": "c0559ca1-25b6-4964-9e90-7c88cb4d4f45"
      },
      "source": [
        "y_resampled.value_counts()"
      ],
      "execution_count": null,
      "outputs": [
        {
          "data": {
            "text/plain": [
              "0.0    60600\n",
              "1.0    60251\n",
              "Name: basic_S_Dot_YN, dtype: int64"
            ]
          },
          "execution_count": 24,
          "metadata": {},
          "output_type": "execute_result"
        }
      ]
    },
    {
      "cell_type": "markdown",
      "metadata": {
        "id": "Y1gGMbkoabbK"
      },
      "source": [
        "### Logistic 회귀 모델 적용"
      ]
    },
    {
      "cell_type": "code",
      "metadata": {
        "scrolled": true,
        "id": "Jr4qyWhEabbK",
        "outputId": "7268f485-f609-4ccc-f432-1ee3047bda45"
      },
      "source": [
        "# logistic = LogisticRegression(class_weight='balanced')\n",
        "logistic = LogisticRegression()\n",
        "logistic.fit(X_resampled, y_resampled)"
      ],
      "execution_count": null,
      "outputs": [
        {
          "name": "stderr",
          "output_type": "stream",
          "text": [
            "/opt/app-root/lib/python3.6/site-packages/sklearn/linear_model/_logistic.py:765: ConvergenceWarning: lbfgs failed to converge (status=1):\n",
            "STOP: TOTAL NO. of ITERATIONS REACHED LIMIT.\n",
            "\n",
            "Increase the number of iterations (max_iter) or scale the data as shown in:\n",
            "    https://scikit-learn.org/stable/modules/preprocessing.html\n",
            "Please also refer to the documentation for alternative solver options:\n",
            "    https://scikit-learn.org/stable/modules/linear_model.html#logistic-regression\n",
            "  extra_warning_msg=_LOGISTIC_SOLVER_CONVERGENCE_MSG)\n"
          ]
        },
        {
          "data": {
            "text/plain": [
              "LogisticRegression()"
            ]
          },
          "execution_count": 25,
          "metadata": {},
          "output_type": "execute_result"
        }
      ]
    },
    {
      "cell_type": "code",
      "metadata": {
        "id": "r69wEMCJabbL",
        "outputId": "ba010c95-5bd3-4bf7-c2e8-d3987e708e39"
      },
      "source": [
        "logistic.predict(X_resampled).sum()"
      ],
      "execution_count": null,
      "outputs": [
        {
          "data": {
            "text/plain": [
              "66209.0"
            ]
          },
          "execution_count": 26,
          "metadata": {},
          "output_type": "execute_result"
        }
      ]
    },
    {
      "cell_type": "code",
      "metadata": {
        "scrolled": false,
        "id": "aqm6YlWaabbL",
        "outputId": "c1c1e243-871b-4605-b3f2-892091d38e3c"
      },
      "source": [
        "pd.Series(logistic.coef_.round(3).tolist()[0], index=X_resampled.columns)"
      ],
      "execution_count": null,
      "outputs": [
        {
          "data": {
            "text/plain": [
              "factory_micro               -0.872\n",
              "construction_micro           0.903\n",
              "factory_noise                0.254\n",
              "construction_noise          -0.725\n",
              "bus_passenger_count          3.966\n",
              "subway_passenger_count       0.236\n",
              "subway_noise_buffer300       0.236\n",
              "val_total                    2.241\n",
              "val_senior                  17.360\n",
              "val_junior                 -14.191\n",
              "val_basic_livelihood_sig     1.319\n",
              "all_AADT                     0.606\n",
              "PSCR_AADT                    0.747\n",
              "BUS_AADT                    -6.025\n",
              "FGCR_AADT                    1.197\n",
              "park_YN                     -4.672\n",
              "gas_usage                   -0.223\n",
              "env_facility_count          -0.695\n",
              "building_20_count           -2.266\n",
              "subway_noise_buffer_YN       0.418\n",
              "river_YN                     0.023\n",
              "mountain_YN                 -0.182\n",
              "commercial_district_YN       0.359\n",
              "dtype: float64"
            ]
          },
          "execution_count": 27,
          "metadata": {},
          "output_type": "execute_result"
        }
      ]
    },
    {
      "cell_type": "code",
      "metadata": {
        "id": "-5Gp4G3jabbM",
        "outputId": "15fd3678-db33-48ea-fea8-02fddaf73fac"
      },
      "source": [
        "from sklearn.metrics import confusion_matrix\n",
        "confusion_matrix(y_resampled, logistic.predict(X_resampled))"
      ],
      "execution_count": null,
      "outputs": [
        {
          "data": {
            "text/plain": [
              "array([[39413, 21187],\n",
              "       [15229, 45022]])"
            ]
          },
          "execution_count": 28,
          "metadata": {},
          "output_type": "execute_result"
        }
      ]
    },
    {
      "cell_type": "code",
      "metadata": {
        "scrolled": true,
        "id": "yDiviroaabbM",
        "outputId": "f3fe0f1d-0bc8-4160-f15f-8bc4dc6ffabc"
      },
      "source": [
        "logistic.predict_proba(X_resampled)"
      ],
      "execution_count": null,
      "outputs": [
        {
          "data": {
            "text/plain": [
              "array([[0.75643536, 0.24356464],\n",
              "       [0.75643536, 0.24356464],\n",
              "       [0.74910284, 0.25089716],\n",
              "       ...,\n",
              "       [0.72554928, 0.27445072],\n",
              "       [0.74891187, 0.25108813],\n",
              "       [0.73008184, 0.26991816]])"
            ]
          },
          "execution_count": 29,
          "metadata": {},
          "output_type": "execute_result"
        }
      ]
    },
    {
      "cell_type": "code",
      "metadata": {
        "scrolled": false,
        "id": "94vQLvYmabbM",
        "outputId": "cd898e94-e627-4a22-b4eb-b22bbda45a94"
      },
      "source": [
        "from sklearn.metrics import classification_report \n",
        "from sklearn.metrics import roc_curve\n",
        "\n",
        "# classification_report(y_resampled, logistic.predict(X_resampled))\n",
        "logistic.predict_proba(X_resampled)\n",
        "fper, tper, thresholds = roc_curve(np.asarray(y_resampled), logistic.predict_proba(X_resampled)[:, 1])\n",
        "\n",
        "def plot_roc_curve(fper, tper):\n",
        "    plt.plot(fper, tper, color='red', label='ROC')\n",
        "    plt.plot([0, 1], [0, 1], color='green', linestyle='--')\n",
        "    plt.xlabel('False Positive Rate')\n",
        "    plt.ylabel('True Positive Rate')\n",
        "    plt.title('Receiver Operating Characteristic Curve')\n",
        "    plt.legend()\n",
        "    plt.show()\n",
        "    \n",
        "plot_roc_curve(fper, tper)"
      ],
      "execution_count": null,
      "outputs": [
        {
          "data": {
            "image/png": "[encoded data removed]",
            "text/plain": [
              "<Figure size 432x288 with 1 Axes>"
            ]
          },
          "metadata": {
            "needs_background": "light"
          },
          "output_type": "display_data"
        }
      ]
    },
    {
      "cell_type": "code",
      "metadata": {
        "scrolled": true,
        "id": "vLKBYCE6abbN",
        "outputId": "1424fa03-f1c8-4c14-939d-a46f4c7d4701"
      },
      "source": [
        "fper, tper, thresholds"
      ],
      "execution_count": null,
      "outputs": [
        {
          "data": {
            "text/plain": [
              "(array([0.00000000e+00, 1.65016502e-05, 3.96039604e-04, ...,\n",
              "        9.99917492e-01, 9.99950495e-01, 1.00000000e+00]),\n",
              " array([0., 0., 0., ..., 1., 1., 1.]),\n",
              " array([1.99608152e+00, 9.96081520e-01, 9.74804752e-01, ...,\n",
              "        9.73962483e-04, 9.52175339e-04, 2.70513059e-04]))"
            ]
          },
          "execution_count": 31,
          "metadata": {},
          "output_type": "execute_result"
        }
      ]
    },
    {
      "cell_type": "code",
      "metadata": {
        "id": "lk-B83M6abbN",
        "outputId": "3e14331d-fa21-46d3-9f1e-61034478f5f0"
      },
      "source": [
        "from sklearn.metrics import r2_score\n",
        "r2_score(y_resampled, logistic.predict(X_resampled))"
      ],
      "execution_count": null,
      "outputs": [
        {
          "data": {
            "text/plain": [
              "-0.20532899855187714"
            ]
          },
          "execution_count": 32,
          "metadata": {},
          "output_type": "execute_result"
        }
      ]
    },
    {
      "cell_type": "markdown",
      "metadata": {
        "id": "vF4cBMUOabbO"
      },
      "source": [
        "### Logistic Regression (가중적용)\n",
        " - 앞서는 오버샘플링한 자료를 통해 적합시켜보았다면 이번에는 원본 데이터를 가지고 가중을 적용하여 학습시키는 모델 적용"
      ]
    },
    {
      "cell_type": "code",
      "metadata": {
        "scrolled": false,
        "id": "ZraRvbEJabbO",
        "outputId": "2621d681-34c1-4788-8d00-3f7a2ee5286b"
      },
      "source": [
        "logistic_bal = LogisticRegression(class_weight='balanced')\n",
        "logistic_bal.fit(feature, target)"
      ],
      "execution_count": null,
      "outputs": [
        {
          "data": {
            "text/plain": [
              "LogisticRegression(class_weight='balanced')"
            ]
          },
          "execution_count": 33,
          "metadata": {},
          "output_type": "execute_result"
        }
      ]
    },
    {
      "cell_type": "code",
      "metadata": {
        "id": "2STSjfjBabbO",
        "outputId": "eb228db6-9e44-4aea-8cb3-d55f808a8d83"
      },
      "source": [
        "logistic_bal.predict(feature).sum()"
      ],
      "execution_count": null,
      "outputs": [
        {
          "data": {
            "text/plain": [
              "31432.0"
            ]
          },
          "execution_count": 34,
          "metadata": {},
          "output_type": "execute_result"
        }
      ]
    },
    {
      "cell_type": "code",
      "metadata": {
        "scrolled": true,
        "id": "TzEiQbvSabbP",
        "outputId": "36519db5-4a87-4ee5-f281-f658b9d82612"
      },
      "source": [
        "pd.Series(logistic_bal.coef_.tolist()[0], index=feature.columns)"
      ],
      "execution_count": null,
      "outputs": [
        {
          "data": {
            "text/plain": [
              "factory_micro              -3.786130e-10\n",
              "construction_micro          1.089224e-09\n",
              "factory_noise              -1.732723e-11\n",
              "construction_noise          5.001758e-10\n",
              "bus_passenger_count         3.782702e-07\n",
              "subway_passenger_count      5.629485e-09\n",
              "subway_noise_buffer300      5.629485e-09\n",
              "subway_noise_buffer_YN     -7.734143e-12\n",
              "val_total                   2.405314e-07\n",
              "val_senior                  6.996433e-08\n",
              "val_junior                  2.134569e-09\n",
              "val_basic_livelihood_sig    8.573311e-09\n",
              "all_AADT                   -9.507530e-06\n",
              "PSCR_AADT                  -7.436021e-06\n",
              "BUS_AADT                   -2.272146e-07\n",
              "FGCR_AADT                  -1.844258e-06\n",
              "river_YN                   -1.856043e-10\n",
              "mountain_YN                -7.948109e-10\n",
              "park_YN                    -2.403947e-10\n",
              "commercial_district_YN      3.292907e-10\n",
              "gas_usage                  -1.103949e-07\n",
              "env_facility_count         -3.865606e-11\n",
              "building_20_count          -1.627465e-11\n",
              "dtype: float64"
            ]
          },
          "execution_count": 35,
          "metadata": {},
          "output_type": "execute_result"
        }
      ]
    },
    {
      "cell_type": "code",
      "metadata": {
        "scrolled": false,
        "id": "BqQmsgROabbP",
        "outputId": "dfc1e082-4559-4873-bdd5-6ba045c53a77"
      },
      "source": [
        "from sklearn.metrics import confusion_matrix\n",
        "confusion_matrix(target, logistic_bal.predict(feature))"
      ],
      "execution_count": null,
      "outputs": [
        {
          "data": {
            "text/plain": [
              "array([[29961, 30639],\n",
              "       [  256,   793]])"
            ]
          },
          "execution_count": 36,
          "metadata": {},
          "output_type": "execute_result"
        }
      ]
    },
    {
      "cell_type": "code",
      "metadata": {
        "id": "TIuT8mLVabbP",
        "outputId": "a584cfed-9810-44cb-e878-94f3969f4fb4"
      },
      "source": [
        "logistic_bal.predict_proba(feature)"
      ],
      "execution_count": null,
      "outputs": [
        {
          "data": {
            "text/plain": [
              "array([[0.5       , 0.5       ],\n",
              "       [0.5       , 0.5       ],\n",
              "       [0.58822144, 0.41177856],\n",
              "       ...,\n",
              "       [0.50467455, 0.49532545],\n",
              "       [0.50519594, 0.49480406],\n",
              "       [0.50519594, 0.49480406]])"
            ]
          },
          "execution_count": 37,
          "metadata": {},
          "output_type": "execute_result"
        }
      ]
    },
    {
      "cell_type": "code",
      "metadata": {
        "scrolled": false,
        "id": "H1AlSu7aabbQ",
        "outputId": "972f9bb3-47eb-47f9-c520-60a0f1ca268b"
      },
      "source": [
        "from sklearn.metrics import classification_report \n",
        "from sklearn.metrics import roc_curve\n",
        "\n",
        "# classification_report(y_resampled, logistic.predict(X_resampled))\n",
        "logistic_bal.predict_proba(feature)\n",
        "fper, tper, thresholds = roc_curve(np.asarray(target), logistic_bal.predict_proba(feature)[:, 1])\n",
        "\n",
        "plot_roc_curve(fper, tper)"
      ],
      "execution_count": null,
      "outputs": [
        {
          "data": {
            "image/png": "[encoded data removed]",
            "text/plain": [
              "<Figure size 432x288 with 1 Axes>"
            ]
          },
          "metadata": {
            "needs_background": "light"
          },
          "output_type": "display_data"
        }
      ]
    },
    {
      "cell_type": "code",
      "metadata": {
        "id": "lsucFLMuabbQ",
        "outputId": "40e1e5d1-1524-444f-d0a6-b9ecb9663c86"
      },
      "source": [
        "from sklearn.metrics import r2_score\n",
        "r2_score(target, logistic.predict(feature))"
      ],
      "execution_count": null,
      "outputs": [
        {
          "data": {
            "text/plain": [
              "-40.6282570702256"
            ]
          },
          "execution_count": 39,
          "metadata": {},
          "output_type": "execute_result"
        }
      ]
    },
    {
      "cell_type": "markdown",
      "metadata": {
        "id": "W-GDP3gdabbQ"
      },
      "source": [
        "## Ridge Classifier 적용 "
      ]
    },
    {
      "cell_type": "code",
      "metadata": {
        "id": "GUcSChB8abbR",
        "outputId": "a2c5b9d2-f780-4937-a3c4-102c03b57d92"
      },
      "source": [
        "ridge = RidgeClassifier()\n",
        "ridge.fit(X_resampled, y_resampled)"
      ],
      "execution_count": null,
      "outputs": [
        {
          "data": {
            "text/plain": [
              "RidgeClassifier()"
            ]
          },
          "execution_count": 40,
          "metadata": {},
          "output_type": "execute_result"
        }
      ]
    },
    {
      "cell_type": "code",
      "metadata": {
        "scrolled": false,
        "id": "XTD9PVlrabbR",
        "outputId": "a3aaab9c-f716-4ec3-ccc9-628dd5aea469"
      },
      "source": [
        "confusion_matrix(y_resampled, ridge.predict(X_resampled))"
      ],
      "execution_count": null,
      "outputs": [
        {
          "data": {
            "text/plain": [
              "array([[39706, 20894],\n",
              "       [15482, 44769]])"
            ]
          },
          "execution_count": 41,
          "metadata": {},
          "output_type": "execute_result"
        }
      ]
    },
    {
      "cell_type": "code",
      "metadata": {
        "scrolled": false,
        "id": "Arx-yzW7abbR",
        "outputId": "80b8fd60-1aa5-4c52-e874-572bd3afa24d"
      },
      "source": [
        "pd.Series(ridge.coef_.round(3).tolist()[0], index=X_resampled.columns)"
      ],
      "execution_count": null,
      "outputs": [
        {
          "data": {
            "text/plain": [
              "factory_micro              -0.392\n",
              "construction_micro          0.411\n",
              "factory_noise               0.261\n",
              "construction_noise         -0.336\n",
              "bus_passenger_count         1.631\n",
              "subway_passenger_count      0.127\n",
              "subway_noise_buffer300      0.127\n",
              "val_total                   0.884\n",
              "val_senior                  8.497\n",
              "val_junior                 -7.170\n",
              "val_basic_livelihood_sig    0.603\n",
              "all_AADT                    0.206\n",
              "PSCR_AADT                   0.244\n",
              "BUS_AADT                   -1.804\n",
              "FGCR_AADT                   0.422\n",
              "park_YN                    -0.773\n",
              "gas_usage                   0.004\n",
              "env_facility_count         -0.227\n",
              "building_20_count          -0.910\n",
              "subway_noise_buffer_YN      0.175\n",
              "river_YN                   -0.000\n",
              "mountain_YN                -0.082\n",
              "commercial_district_YN      0.163\n",
              "dtype: float64"
            ]
          },
          "execution_count": 42,
          "metadata": {},
          "output_type": "execute_result"
        }
      ]
    },
    {
      "cell_type": "code",
      "metadata": {
        "scrolled": false,
        "id": "M2k-x7WGabbS",
        "outputId": "533a0ec7-24a2-43fe-e02d-8a013d16599a"
      },
      "source": [
        "# classification_report(y_resampled, logistic.predict(X_resampled))\n",
        "logistic.predict_proba(X_resampled)\n",
        "fper, tper, thresholds = roc_curve(np.asarray(y_resampled), ridge.predict(X_resampled))\n",
        "\n",
        "def plot_roc_curve(fper, tper):\n",
        "    plt.plot(fper, tper, color='red', label='ROC')\n",
        "    plt.plot([0, 1], [0, 1], color='green', linestyle='--')\n",
        "    plt.xlabel('False Positive Rate')\n",
        "    plt.ylabel('True Positive Rate')\n",
        "    plt.title('Receiver Operating Characteristic Curve')\n",
        "    plt.legend()\n",
        "    plt.show()\n",
        "    \n",
        "plot_roc_curve(fper, tper)"
      ],
      "execution_count": null,
      "outputs": [
        {
          "data": {
            "image/png": "[encoded data removed]",
            "text/plain": [
              "<Figure size 432x288 with 1 Axes>"
            ]
          },
          "metadata": {
            "needs_background": "light"
          },
          "output_type": "display_data"
        }
      ]
    },
    {
      "cell_type": "markdown",
      "metadata": {
        "id": "jwbLCrmIabbS"
      },
      "source": [
        "## 결론\n",
        "- 회귀모델을 통해 모델의 가중치를 적용하는 것은 힘들어 보임\n"
      ]
    }
  ]
}